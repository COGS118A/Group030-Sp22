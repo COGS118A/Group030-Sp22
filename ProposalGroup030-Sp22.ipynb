{
 "cells": [
  {
   "cell_type": "markdown",
   "metadata": {},
   "source": [
    "# COGS 118A- Project Proposal"
   ]
  },
  {
   "cell_type": "markdown",
   "metadata": {},
   "source": [
    "# Project Description\n",
    "\n",
    "You will design and execute a machine learning project. There are a few constraints on the nature of the allowed project. \n",
    "- The problem addressed will not be a \"toy problem\" or \"common training students problem\" like mtcars, iris, palmer penguins etc.\n",
    "- The dataset will have >1k observations and >5 variables. I'd prefer more like >10k observations and >10 variables. A general rule is that if you have >100x more observations than variables, your solution will likely generalize a lot better. The goal of training a supervised machine learning model is to learn the underlying pattern in a dataset in order to generalize well to unseen data, so choosing a large dataset is very important.\n",
    "\n",
    "- The project will include a model selection and/or feature selection component where you will be looking for the best setup to maximize the performance of your ML system.\n",
    "- You will evaluate the performance of your ML system using more than one appropriate metric\n",
    "- You will be writing a report describing and discussing these accomplishments\n",
    "\n",
    "\n",
    "Feel free to delete this description section when you hand in your proposal."
   ]
  },
  {
   "cell_type": "markdown",
   "metadata": {},
   "source": [
    "### Peer Review\n",
    "\n",
    "You will all have an opportunity to look at the Project Proposals of other groups to fuel your creativity and get more ideas for how you can improve your own projects. \n",
    "\n",
    "Both the project proposal and project checkpoint will have peer review."
   ]
  },
  {
   "cell_type": "markdown",
   "metadata": {},
   "source": [
    "# Names\n",
    "\n",
    "- Joshua Garcia\n",
    "- Rey Mendoza\n",
    "- Ryan Burden\n",
    "- Terence Ting"
   ]
  },
  {
   "cell_type": "markdown",
   "metadata": {},
   "source": [
    "# Abstract \n",
    "    The purpose of this project is to select and optimize a model that is appropriate for the task of classifying pictures of food with varying degrees of noise into food categories. Our models will be evaluated by classification error metrics. The dataset, 'food101' consists 101,000 labeled images of food. Each dataset has the dimensionality (512, 512, 3), as each image is 512 x 512 in resolution has has three color channels. We will be training supervised classification methods such as random forests, as well as neural network architectures such as ResNet50 on these images and evaluating their performance on the test set. The optimal hyperparaters and architecture of our model will be determied with cross-validated error. Finally, test set precision and recall will be used to evlauate the performance of each model."
   ]
  },
  {
   "cell_type": "markdown",
   "metadata": {},
   "source": [
    "# Background\n",
    "\n",
    "This dataset of food images was previously used by Bossard <i>et al</i>.<a name=\"bossard\"></a>[<sup>[1]</sup>](#bossardnote) in a similar food image classification study where they sought to automatically recognize pictured dishes using Random Forests to discriminate between key areas of the images, allowing them to classify different parts of the image simultaneously. There, they detailed how classical approaches to image classification use interest point descriptors before being transformed into a vectorial-representation of the image and using Support Vector Machines for classification. They also bring to attention the novel technique of classifying certain objects or parts of an image by using Deformable Part-based Models for object detection <a name=\"felzenszwalb\"></a>[<sup>[2]</sup>](#felzenszwalbnote).\n",
    "\n",
    "Focusing instead on the food recognition part of the paper, they reference a paper by Joutou <a name = \"joutou\"></a>[<sup>[3]</sup>](#joutounote) which used a private dataset of Japanese dishes for training and classification whereas Kawano <a name = \"kawano\"></a>[<sup>[4]</sup>](#kawanonote), while also using a private dataset of Chinese dishes, made use of DPM to locally pool features to aid in food categorization. Furthermore, in a paper by Yang <i>et al</i>. <a name = \"yang\"></a>[<sup>[5]</sup>](#yangnote), the goal was to use images of food and learn the spatial relationships between the different ingredients in the dish using pairwise features. Bossard et al. commented that this particular approach would only be feasible for meals with a standardized layout. \n",
    "\n",
    "As presented by Bossard <i>et al</i>.<i>et al</i>.<a name=\"bossard\"></a>[<sup>[1]</sup>](#bossardnote), the problem of food classification becomes increasingly relevant given the “abundance of food photography in social networks”. From mundane tasks such as the organization of a collection of food photos to tasks such as helping patients with diabetes easily track and count their calorie intake <i>et al</i>.<a name=\"bossard\"></a>[<sup>[1]</sup>](#bossardnote), classifying images of food has many use cases in today’s society.\n"
   ]
  },
  {
   "cell_type": "markdown",
   "metadata": {},
   "source": [
    "# Problem Statement\n",
    "\n",
    "For those not well-versed in the culinary arts, identifying and naming different dishes, especially with the prevalence of food across social media, may serve as a challenge. We aim to train some machine learning algorithm to recognize and classify the images of food in this repository so that the algorithm can, with some level of accuracy, correctly classify new images that are input by the user. The success of this machine learning algorithm would be determined by the proportion of images it correctly classifies."
   ]
  },
  {
   "cell_type": "markdown",
   "metadata": {},
   "source": [
    "# Data\n",
    "\n",
    "We plan on using the Food-101 Dataset. \n",
    "\n",
    "- https://www.kaggle.com/datasets/dansbecker/food-101?select=food-101.zip\n",
    "- 101 Different food categories, each category of food has various different variations of that food image. In total there are 101,000 images each photo of size 512 pixels. We are given 750 training images as well.\n",
    "- An observation is a photo of a specific type of food\n",
    "- Each category of food is considered its own variable, the photos are stored by their category of food and labled the count of which photo they are. ie.(Pizza_1).\n",
    "- Transformations and images are already centered and properly organized and labled such that we won’t need to take extra special data cleaning to manage this dataset. That said, we do plan on adding extra distortion to these images to test our algorithms accuracy with images that have distortion such as gaussian blur, extra noise, or discoloration.\n"
   ]
  },
  {
   "cell_type": "markdown",
   "metadata": {},
   "source": [
    "# Proposed Solution\n",
    "\n",
    "One proposed solution we have is to use our own variation of Random Forests to classify an image. We plan on using our repository of photos to build a class of foods through sub categories such as color or shape and classify our test images by running them through the random forest tree. Similarly, a different project used a similar model to our proposed model <a name=\"bossard\"></a>[<sup>[1]</sup>](#bossardnote) such that they achieved an accuracy of 54%-58%.\n",
    "\n",
    "We also are considering applying a deep learning model such as ResNet50 which we can use for image classification with relatively high accuracy. This model uses 48 convolution layers that has been pretrained with over a million images from the imageNet database and allows it to classify images into 1000 categories. \n",
    "\n",
    "One other idea we have towards classification is to use K-means clustering to perform image classification and use our training data to perform a general K-means cluster that is expected for a specific food and when test data is passed in, we compare the test datas K-mean to our general k-means database and assign that test image to the food of closest resemblance.\n",
    "\n"
   ]
  },
  {
   "cell_type": "markdown",
   "metadata": {},
   "source": [
    "# Evaluation Metrics\n",
    "\n",
    "Propose at least one evaluation metric that can be used to quantify the performance of both the benchmark model and the solution model. The evaluation metric(s) you propose should be appropriate given the context of the data, the problem statement, and the intended solution. Describe how the evaluation metric(s) are derived and provide an example of their mathematical representations (if applicable). Complex evaluation metrics should be clearly defined and quantifiable (can be expressed in mathematical or logical terms)."
   ]
  },
  {
   "cell_type": "markdown",
   "metadata": {},
   "source": [
    "# Ethics & Privacy"
   ]
  },
  {
   "cell_type": "markdown",
   "metadata": {},
   "source": [
    "If your project has obvious potential concerns with ethics or data privacy discuss that here.  Almost every ML project put into production can have ethical implications if you use your imagination. Use your imagination.\n",
    "\n",
    "Even if you can't come up with an obvious ethical concern that should be addressed, you should know that a large number of ML projects that go into producation have unintended consequences and ethical problems once in production. How will your team address these issues?\n",
    "\n",
    "Consider a tool to help you address the potential issues such as https://deon.drivendata.org"
   ]
  },
  {
   "cell_type": "markdown",
   "metadata": {},
   "source": [
    "# Team Expectations "
   ]
  },
  {
   "cell_type": "markdown",
   "metadata": {},
   "source": [
    "Put things here that cement how you will interact/communicate as a team, how you will handle conflict and difficulty, how you will handle making decisions and setting goals/schedule, how much work you expect from each other, how you will handle deadlines, etc...\n",
    "* *Team Expectation 1*\n",
    "* *Team Expectation 2*\n",
    "* *Team Expecation 3*\n",
    "* ..."
   ]
  },
  {
   "cell_type": "markdown",
   "metadata": {},
   "source": [
    "# Project Timeline Proposal"
   ]
  },
  {
   "cell_type": "markdown",
   "metadata": {},
   "source": [
    "\n",
    "| 4/8  |  1 PM | Passively think of good ideas, topics of interest. \n",
    "\n",
    "| 4/20  |  10 AM |  Search for datasets, brainstorm project ideas. | Choose final dataset and idea. | \n",
    "\n",
    "| 4/24  | 6 PM  | Submit final proposal.  | Divide workload among group members.   |\n",
    "\n",
    "| 5/1  | 2 PM  | Examine datset characteristics and structure. |EDA and Wrangling/preprocessing if necessary   |\n",
    "\n",
    "| 5/8  | 2 PM  | Determine which models should be trained and evaluated. | Apply and train chosen models. Find \n",
    "optimal parameters. |\n",
    "\n",
    "| 5/12  | 12 PM  | Begin paper, complete Abstract and Methods. | Final model evaluation, final model selection. Discussion of results.  |\n",
    "\n",
    "| 6/8  | Before 11:59 PM  | NA | Turn in Final Project  |"
   ]
  },
  {
   "cell_type": "markdown",
   "metadata": {},
   "source": [
    "# Footnotes\n",
    "<a name=\"bossardnote\"></a>1.[^](#bossard): Bossard <i>et al</i>. (Sep 2014) Food-101 - Mining Discriminative Components with Random Forests. https://data.vision.ee.ethz.ch/cvl/datasets_extra/food-101/static/bossard_eccv14_food-101.pdf<br>\n",
    "<a name=\"felzenszwalbnote\"></a>2. [^](#felzenszwalb): Felzenszwalb, P.F., Girshick, R., McAllester, D., Ramanan, D.: Object detection\n",
    "with discriminatively trained part based models. PAMI (2010)<br>\n",
    "<a name=\"joutounote\"></a>3. [^](#joutou): Joutou, T., Yanai, K.: A food image recognition system with Multiple Kernel Learning. In: ICIP (2009)<br>\n",
    "<a name=\"kawanonote\"></a>4. [^](#kawano): Kawano, Y., Yanai, K.: Real-Time Mobile Food Recognition System. In: IEEE Conference on Computer Vision and Pattern Recognition Workshops (2013)<br>\n",
    "<a name=\"yangnote\"></a>5. [^](#yang): Yang, S.L., Chen, M., Pomerleau, D., Sukthankar, R.: Food recognition using statistics of pairwise local features. In: CVPR (2010)"
   ]
  },
  {
   "cell_type": "code",
   "execution_count": null,
   "metadata": {},
   "outputs": [],
   "source": []
  }
 ],
 "metadata": {
  "kernelspec": {
   "display_name": "Python 3",
   "language": "python",
   "name": "python3"
  },
  "language_info": {
   "codemirror_mode": {
    "name": "ipython",
    "version": 3
   },
   "file_extension": ".py",
   "mimetype": "text/x-python",
   "name": "python",
   "nbconvert_exporter": "python",
   "pygments_lexer": "ipython3",
   "version": "3.8.8"
  }
 },
 "nbformat": 4,
 "nbformat_minor": 2
}
