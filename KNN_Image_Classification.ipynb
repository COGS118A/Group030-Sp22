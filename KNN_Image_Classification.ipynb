{
 "cells": [
  {
   "cell_type": "code",
   "execution_count": 1,
   "metadata": {},
   "outputs": [],
   "source": [
    "import os\n",
    "import matplotlib.pyplot as plt\n",
    "import matplotlib.image as mpimg\n",
    "from PIL import Image, ImageStat\n",
    "\n",
    "import json\n",
    "import numpy as np\n",
    "import cv2\n",
    "import pandas as pd\n",
    "\n",
    "from sklearn.neighbors import KNeighborsClassifier\n",
    "from sklearn.model_selection import train_test_split\n",
    "from imutils import paths\n",
    "import argparse\n",
    "import imutils\n",
    "\n",
    "\n",
    "from os import listdir\n",
    "from os.path import isfile, join"
   ]
  },
  {
   "cell_type": "code",
   "execution_count": 2,
   "metadata": {},
   "outputs": [],
   "source": [
    "import os\n",
    "import matplotlib.pyplot as plt\n",
    "import matplotlib.image as mpimg\n",
    "import random\n",
    "import json\n",
    "import numpy as np\n",
    "import cv2\n",
    "from matplotlib import pyplot\n",
    "\n",
    "#python -m pip install -U scikit-image\n",
    "import pandas as pd\n",
    "from sklearn import svm\n",
    "from sklearn.model_selection import GridSearchCV\n",
    "#from skimage.io import imread\n",
    "from skimage.io import imread\n",
    "from skimage.transform import resize\n",
    "\n",
    "from sklearn.model_selection import train_test_split\n",
    "from sklearn.metrics import classification_report, accuracy_score, confusion_matrix\n",
    "import pickle\n",
    "\n"
   ]
  },
  {
   "cell_type": "code",
   "execution_count": 3,
   "metadata": {},
   "outputs": [],
   "source": [
    "dir = \"food-101/food-101/images/\"\n",
    "\n",
    "def imOpen(path):\n",
    "    imPath = dir + path\n",
    "    img = mpimg.imread(imPath)\n",
    "    return img\n",
    "\n",
    "def brightness(im_file):\n",
    "   im = Image.open(im_file).convert('L')\n",
    "   stat = ImageStat.Stat(im)\n",
    "   im.close\n",
    "   return stat.rms[0]\n",
    "\n",
    "def image_to_feature_vector(image, size=(256, 256)):\n",
    "    # resize the image to a fixed size, then flatten the image into\n",
    "    # a list of raw pixel intensities\n",
    "    return cv2.resize(image, size).flatten()\n",
    "\n",
    "def extract_color_histogram(image, bins=(8, 8, 8)):\n",
    "    # extract a 3D color histogram from the HSV color space using\n",
    "    # the supplied number of `bins` per channel\n",
    "    hsv = cv2.cvtColor(image, cv2.COLOR_BGR2HSV)\n",
    "    hist = cv2.calcHist([hsv], [0, 1, 2], None, bins,\n",
    "        [0, 180, 0, 256, 0, 256])\n",
    "    # handle normalizing the histogram if we are using OpenCV 2.4.X\n",
    "    if imutils.is_cv2():\n",
    "        hist = cv2.normalize(hist)\n",
    "    # otherwise, perform \"in place\" normalization in OpenCV 3 (I\n",
    "    # personally hate the way this is done\n",
    "    else:\n",
    "        cv2.normalize(hist, hist)\n",
    "    # return the flattened histogram as the feature vector\n",
    "    return hist.flatten()"
   ]
  },
  {
   "cell_type": "code",
   "execution_count": 4,
   "metadata": {},
   "outputs": [],
   "source": [
    "categories = open('food-101/food-101/meta/classes.txt').read().split()\n",
    "categories\n",
    "\n",
    "test = json.load(open('food-101/food-101/meta/test.json'))\n",
    "train = json.load(open('food-101/food-101/meta/train.json'))\n",
    "\n",
    "# count_test = np.array(list(test.values()))\n",
    "# print('Number of Test Images:', count_test.shape[0] * count_test.shape[1])\n",
    "\n",
    "# count_train = np.array(list(train.values()))\n",
    "# print('Number of Train Images:', count_train.shape[0] * count_train.shape[1])\n",
    "\n",
    "# whole = {}\n",
    "# for key in test.keys():\n",
    "#     whole[key] = test[key]\n",
    "#     whole[key] += train[key]\n",
    "\n",
    "# count_whole = np.array(list(whole.values()))\n",
    "# print('Total Number of Images:', count_whole.shape[0] * count_whole.shape[1])\n",
    "\n",
    "# print('Number of categories:', len(categories))\n",
    "# print('Number of photos per category:', len(whole['apple_pie']))\n",
    "# print('List of categories:', categories)\n",
    "\n",
    "# plt.imshow(imOpen(train[categories[0]][0] + '.jpg'));\n",
    "\n",
    "# print('\\nTrain Dataset')\n",
    "# print('Example Keys:', list(train.keys())[:5])\n",
    "# print('Example Values:', train['churros'][:5])\n",
    "# print('\\nTest Dataset')\n",
    "# print('Example Keys:', list(test.keys())[:5])\n",
    "# print('Example Values:', test['churros'][:5])"
   ]
  },
  {
   "cell_type": "code",
   "execution_count": 8,
   "metadata": {},
   "outputs": [
    {
     "name": "stdout",
     "output_type": "stream",
     "text": [
      "['2853890.jpg', '1579622.jpg', '3134347.jpg', '3314985.jpg', '2047916.jpg', '1420227.jpg', '1847621.jpg', '3670548.jpg', '2766017.jpg', '1088809.jpg', '1174330.jpg', '1284682.jpg', '739615.jpg', '112378.jpg', '2596943.jpg', '3065929.jpg', '1112300.jpg', '3116086.jpg', '2582077.jpg', '939768.jpg', '2767057.jpg', '3603821.jpg', '1617793.jpg', '885848.jpg', '2132230.jpg']\n"
     ]
    }
   ],
   "source": [
    "#DATASET IS TOO LARGE AHHH\n",
    "#TIME TO RANDOM SAMPLE\n",
    "#Select number of images to be random sampled\n",
    "randomSampleCount = 500 # 50\n",
    "\n",
    "# random.seed(255)\n",
    "sequence = [i for i in range(1001)]\n",
    "randList = random.sample(sequence, randomSampleCount)\n",
    "\n",
    "randomSampled = []\n",
    "scaleddir = 'food-101/food-101/imagesScaled/'\n",
    "for cat in categories:\n",
    "    directory = scaleddir + cat\n",
    "    path = os.listdir(directory)\n",
    "    index = 0\n",
    "    imagesToBeSampled = []\n",
    "    for images in path:\n",
    "        index = index + 1\n",
    "        if(index in randList):\n",
    "            imagesToBeSampled.append(images)\n",
    "    randomSampled.append(imagesToBeSampled)\n",
    "print(randomSampled[0][:25])\n",
    "\n",
    "# 50 random images from each of the 101 categories"
   ]
  },
  {
   "cell_type": "code",
   "execution_count": 9,
   "metadata": {
    "scrolled": false
   },
   "outputs": [
    {
     "name": "stdout",
     "output_type": "stream",
     "text": [
      "processing category 0: chicken_curry...\n",
      "processing category 1: french_toast...\n",
      "processing category 2: eggs_benedict...\n",
      "processing category 3: macarons...\n",
      "processing category 4: chocolate_mousse...\n",
      "converting image data into dataframe...\n",
      "appending category name to dataframe...\n",
      "Splitting into train and test sets...\n",
      "\n",
      "Number of training data: 3500\n",
      "Number of testing data: 1500\n",
      "\n",
      "CPU times: user 19.4 s, sys: 480 ms, total: 19.9 s\n",
      "Wall time: 20.2 s\n"
     ]
    }
   ],
   "source": [
    "%%time\n",
    "\n",
    "#SVM WORK\n",
    "from sklearn.preprocessing import MinMaxScaler\n",
    "flat = []\n",
    "images2 = []\n",
    "#Resized array ***CRITICAL USE RESIZED ARRAY\n",
    "scaleddir = 'food-101/food-101/imagesScaled/'\n",
    "\n",
    "#This gets all images and puts them into a dataframe\n",
    "#DESIGN NOTES\n",
    "#Changes image size to 50x50 due to processign speed. 250x250 increases processing time by 30% which scales exponentially.\n",
    "index = 0\n",
    "for cat in random.sample(categories, 5): #categories[:50]:\n",
    "    print(f'processing category {index}: {cat}...')\n",
    "    directory = scaleddir + cat    \n",
    "    # path = randomSampled[index]\n",
    "    path = [f for f in listdir(directory) if isfile(join(directory, f))]\n",
    "    index = index + 1\n",
    "    for images in path:\n",
    "        toArr = imread(os.path.join(directory, images))\n",
    "        img_resized = resize(toArr, (50, 50, 3))\n",
    "        flat.append(img_resized.flatten())\n",
    "        images2.append(cat)\n",
    "\n",
    "print('converting image data into dataframe...')\n",
    "df = pd.DataFrame(np.array(flat))\n",
    "print('appending category name to dataframe...')\n",
    "df['Target'] = np.array(images2)\n",
    "\n",
    "#Here we create our test to data split, Default is 30\n",
    "ts = .30\n",
    "rs = 45\n",
    "x = df.iloc[:, :-1]\n",
    "y = df.iloc[:, -1]\n",
    "print('Splitting into train and test sets...')\n",
    "x_train, x_test, y_train, y_test = train_test_split(x, y, test_size=ts, random_state=rs, stratify=y)\n",
    "\n",
    "print()\n",
    "print(\"Number of training data: \" + str(len(x_train)))\n",
    "print(\"Number of testing data: \" + str(len(x_test)))\n",
    "print()\n",
    "\n"
   ]
  },
  {
   "cell_type": "code",
   "execution_count": 10,
   "metadata": {
    "scrolled": false
   },
   "outputs": [
    {
     "name": "stdout",
     "output_type": "stream",
     "text": [
      "Fitting 2 folds for each of 10 candidates, totalling 20 fits\n",
      "[CV 1/2] END ..................................n_neighbors=1; total time=   0.5s\n",
      "[CV 2/2] END ..................................n_neighbors=1; total time=   0.4s\n",
      "[CV 1/2] END ..................................n_neighbors=3; total time=   0.4s\n",
      "[CV 2/2] END ..................................n_neighbors=3; total time=   0.4s\n",
      "[CV 1/2] END ..................................n_neighbors=5; total time=   0.4s\n",
      "[CV 2/2] END ..................................n_neighbors=5; total time=   0.4s\n",
      "[CV 1/2] END ..................................n_neighbors=7; total time=   0.4s\n",
      "[CV 2/2] END ..................................n_neighbors=7; total time=   0.4s\n",
      "[CV 1/2] END ..................................n_neighbors=9; total time=   0.4s\n",
      "[CV 2/2] END ..................................n_neighbors=9; total time=   0.4s\n",
      "[CV 1/2] END .................................n_neighbors=11; total time=   0.4s\n",
      "[CV 2/2] END .................................n_neighbors=11; total time=   0.4s\n",
      "[CV 1/2] END .................................n_neighbors=13; total time=   0.4s\n",
      "[CV 2/2] END .................................n_neighbors=13; total time=   0.4s\n",
      "[CV 1/2] END .................................n_neighbors=15; total time=   0.4s\n",
      "[CV 2/2] END .................................n_neighbors=15; total time=   0.4s\n",
      "[CV 1/2] END .................................n_neighbors=17; total time=   0.4s\n",
      "[CV 2/2] END .................................n_neighbors=17; total time=   0.4s\n",
      "[CV 1/2] END .................................n_neighbors=19; total time=   0.4s\n",
      "[CV 2/2] END .................................n_neighbors=19; total time=   0.4s\n",
      "{'n_neighbors': 17}\n",
      "Accuracy for our training dataset with tuning is : 36.51%\n",
      "Accuracy for our testing dataset with tuning is : 46.93%\n",
      "CPU times: user 1min 43s, sys: 9.01 s, total: 1min 52s\n",
      "Wall time: 14.6 s\n"
     ]
    }
   ],
   "source": [
    "%%time\n",
    "from sklearn.neighbors import KNeighborsClassifier\n",
    "\n",
    "knn = KNeighborsClassifier()\n",
    "from sklearn.model_selection import GridSearchCV\n",
    "k_range = list(range(1,21, 2))\n",
    "param_grid = dict(n_neighbors = k_range)\n",
    "\n",
    "grid = GridSearchCV(knn, param_grid, cv=2, scoring='accuracy', return_train_score=True, verbose=3)\n",
    "grid_search = grid.fit(x_train, y_train)\n",
    "\n",
    "print(grid_search.best_params_)\n",
    "accuracy = grid_search.best_score_ *100\n",
    "print(\"Accuracy for our training dataset with tuning is : {:.2f}%\".format(accuracy))\n",
    "\n",
    "knn2 = KNeighborsClassifier(n_neighbors=grid_search.best_params_['n_neighbors'])\n",
    "knn2.fit(x, y)\n",
    "y_test_hat=knn2.predict(x_test) \n",
    "test_accuracy=np.mean(y_test_hat == y_test)*100 # accuracy_score(y_test,y_test_hat)*100\n",
    "print(\"Accuracy for our testing dataset with tuning is : {:.2f}%\".format(test_accuracy))"
   ]
  },
  {
   "cell_type": "code",
   "execution_count": 34,
   "metadata": {},
   "outputs": [
    {
     "data": {
      "image/png": "[encoded data removed]",
      "text/plain": [
       "<Figure size 432x288 with 2 Axes>"
      ]
     },
     "metadata": {
      "needs_background": "light"
     },
     "output_type": "display_data"
    }
   ],
   "source": [
    "from sklearn.metrics import confusion_matrix\n",
    "import seaborn as sns\n",
    "cf_matrix = confusion_matrix(y_test, y_test_hat)\n",
    "\n",
    "ax = sns.heatmap(cf_matrix, annot=True)\n",
    "\n",
    "ax.set_xlabel('\\nPredicted Values')\n",
    "ax.set_ylabel('Actual Values ');"
   ]
  },
  {
   "cell_type": "code",
   "execution_count": 38,
   "metadata": {},
   "outputs": [],
   "source": [
    "def createRandomData():\n",
    "    flat = []\n",
    "    images2 = []\n",
    "    scaleddir = 'food-101/food-101/imagesScaled/'\n",
    "\n",
    "    index = 0\n",
    "    for cat in random.sample(categories, 5): \n",
    "        directory = scaleddir + cat    \n",
    "        path = [f for f in listdir(directory) if isfile(join(directory, f))]\n",
    "        index = index + 1\n",
    "        for images in path:\n",
    "            toArr = imread(os.path.join(directory, images))\n",
    "            img_resized = resize(toArr, (50, 50, 3)) \n",
    "            flat.append(img_resized.flatten())\n",
    "            images2.append(cat)\n",
    "\n",
    "    df = pd.DataFrame(np.array(flat))\n",
    "    df['Target'] = np.array(images2)\n",
    "\n",
    "    ts = .30\n",
    "    rs = 45\n",
    "    x = df.iloc[:, :-1]\n",
    "    y = df.iloc[:, -1]\n",
    "    x_train, x_test, y_train, y_test = train_test_split(x, y, test_size=ts, random_state=rs, stratify=y)\n",
    "\n",
    "    return x_train, x_test, y_train, y_test, x, y"
   ]
  },
  {
   "cell_type": "code",
   "execution_count": 49,
   "metadata": {},
   "outputs": [],
   "source": [
    "def runKNN(x_train, x_test, y_train, y_test, x, y):\n",
    "    \n",
    "    knn = KNeighborsClassifier()\n",
    "    k_range = list(range(1,21, 2))\n",
    "    param_grid = dict(n_neighbors = k_range)\n",
    "\n",
    "    grid = GridSearchCV(knn, param_grid, cv=2, scoring='accuracy')\n",
    "    grid_search = grid.fit(x_train, y_train)\n",
    "\n",
    "    best_param = grid_search.best_params_\n",
    "\n",
    "    knn2 = KNeighborsClassifier(n_neighbors=grid_search.best_params_['n_neighbors'])\n",
    "    knn2.fit(x, y)\n",
    "    y_test_hat=knn2.predict(x_test) \n",
    "    test_accuracy=np.mean(y_test_hat == y_test)*100 \n",
    "    \n",
    "    return best_param, test_accuracy, knn2"
   ]
  },
  {
   "cell_type": "code",
   "execution_count": 50,
   "metadata": {},
   "outputs": [
    {
     "name": "stdout",
     "output_type": "stream",
     "text": [
      "{'n_neighbors': 15} 42.0\n",
      "CPU times: user 1min 25s, sys: 4.98 s, total: 1min 30s\n",
      "Wall time: 30.1 s\n"
     ]
    }
   ],
   "source": [
    "%%time\n",
    "x_train, x_test, y_train, y_test, x, y = createRandomData()\n",
    "best_param, test_accuracy, knn = runKNN(x_train, x_test, y_train, y_test, x, y)\n",
    "print(best_param, test_accuracy)"
   ]
  },
  {
   "cell_type": "code",
   "execution_count": 60,
   "metadata": {
    "scrolled": false
   },
   "outputs": [
    {
     "name": "stdout",
     "output_type": "stream",
     "text": [
      "Processing Epoch 0...\n",
      "Epoch 0: 34.53333333333333% Accuracy\n",
      "\n",
      "Processing Epoch 1...\n",
      "Epoch 1: 39.06666666666666% Accuracy\n",
      "\n",
      "Processing Epoch 2...\n",
      "Epoch 2: 41.86666666666667% Accuracy\n",
      "\n",
      "Processing Epoch 3...\n",
      "Epoch 3: 38.266666666666666% Accuracy\n",
      "\n",
      "Processing Epoch 4...\n",
      "Epoch 4: 41.46666666666667% Accuracy\n",
      "\n",
      "Processing Epoch 5...\n",
      "Epoch 5: 38.4% Accuracy\n",
      "\n",
      "Processing Epoch 6...\n",
      "Epoch 6: 100.0% Accuracy\n",
      "\n",
      "Processing Epoch 7...\n",
      "Epoch 7: 42.733333333333334% Accuracy\n",
      "\n",
      "Processing Epoch 8...\n",
      "Epoch 8: 44.13333333333333% Accuracy\n",
      "\n",
      "Processing Epoch 9...\n",
      "Epoch 9: 53.13333333333333% Accuracy\n",
      "\n",
      "Processing Epoch 10...\n",
      "Epoch 10: 39.666666666666664% Accuracy\n",
      "\n",
      "Processing Epoch 11...\n",
      "Epoch 11: 38.0% Accuracy\n",
      "\n",
      "Processing Epoch 12...\n",
      "Epoch 12: 39.46666666666667% Accuracy\n",
      "\n",
      "Processing Epoch 13...\n",
      "Epoch 13: 100.0% Accuracy\n",
      "\n",
      "Processing Epoch 14...\n",
      "Epoch 14: 36.8% Accuracy\n",
      "\n",
      "Processing Epoch 15...\n",
      "Epoch 15: 37.8% Accuracy\n",
      "\n",
      "Processing Epoch 16...\n",
      "Epoch 16: 41.06666666666667% Accuracy\n",
      "\n",
      "Processing Epoch 17...\n",
      "Epoch 17: 44.266666666666666% Accuracy\n",
      "\n",
      "Processing Epoch 18...\n",
      "Epoch 18: 59.0% Accuracy\n",
      "\n",
      "Processing Epoch 19...\n",
      "Epoch 19: 39.800000000000004% Accuracy\n",
      "\n",
      "Processing Epoch 20...\n",
      "Epoch 20: 48.46666666666667% Accuracy\n",
      "\n",
      "Processing Epoch 21...\n",
      "Epoch 21: 40.666666666666664% Accuracy\n",
      "\n",
      "Processing Epoch 22...\n",
      "Epoch 22: 100.0% Accuracy\n",
      "\n",
      "Processing Epoch 23...\n",
      "Epoch 23: 52.93333333333333% Accuracy\n",
      "\n",
      "Processing Epoch 24...\n",
      "Epoch 24: 53.733333333333334% Accuracy\n",
      "\n",
      "Processing Epoch 25...\n",
      "Epoch 25: 36.266666666666666% Accuracy\n",
      "\n",
      "Processing Epoch 26...\n",
      "Epoch 26: 39.93333333333333% Accuracy\n",
      "\n",
      "Processing Epoch 27...\n",
      "Epoch 27: 44.93333333333333% Accuracy\n",
      "\n",
      "Processing Epoch 28...\n",
      "Epoch 28: 36.8% Accuracy\n",
      "\n",
      "Processing Epoch 29...\n",
      "Epoch 29: 46.733333333333334% Accuracy\n",
      "\n",
      "Processing Epoch 30...\n",
      "Epoch 30: 38.666666666666664% Accuracy\n",
      "\n",
      "Processing Epoch 31...\n",
      "Epoch 31: 39.93333333333333% Accuracy\n",
      "\n",
      "Processing Epoch 32...\n",
      "Epoch 32: 42.199999999999996% Accuracy\n",
      "\n",
      "Processing Epoch 33...\n",
      "Epoch 33: 36.199999999999996% Accuracy\n",
      "\n",
      "Processing Epoch 34...\n",
      "Epoch 34: 36.93333333333334% Accuracy\n",
      "\n",
      "Processing Epoch 35...\n",
      "Epoch 35: 100.0% Accuracy\n",
      "\n",
      "Processing Epoch 36...\n",
      "Epoch 36: 49.333333333333336% Accuracy\n",
      "\n",
      "Processing Epoch 37...\n",
      "Epoch 37: 42.333333333333336% Accuracy\n",
      "\n",
      "Processing Epoch 38...\n",
      "Epoch 38: 49.8% Accuracy\n",
      "\n",
      "Processing Epoch 39...\n",
      "Epoch 39: 45.4% Accuracy\n",
      "\n",
      "Processing Epoch 40...\n",
      "Epoch 40: 40.400000000000006% Accuracy\n",
      "\n",
      "Processing Epoch 41...\n",
      "Epoch 41: 100.0% Accuracy\n",
      "\n",
      "Processing Epoch 42...\n",
      "Epoch 42: 46.400000000000006% Accuracy\n",
      "\n",
      "Processing Epoch 43...\n",
      "Epoch 43: 31.333333333333336% Accuracy\n",
      "\n",
      "Processing Epoch 44...\n",
      "Epoch 44: 35.733333333333334% Accuracy\n",
      "\n",
      "Processing Epoch 45...\n",
      "Epoch 45: 43.46666666666666% Accuracy\n",
      "\n",
      "Processing Epoch 46...\n",
      "Epoch 46: 54.46666666666666% Accuracy\n",
      "\n",
      "Processing Epoch 47...\n",
      "Epoch 47: 52.733333333333334% Accuracy\n",
      "\n",
      "Processing Epoch 48...\n",
      "Epoch 48: 44.800000000000004% Accuracy\n",
      "\n",
      "Processing Epoch 49...\n",
      "Epoch 49: 51.800000000000004% Accuracy\n",
      "\n",
      "Processing Epoch 50...\n",
      "Epoch 50: 44.333333333333336% Accuracy\n",
      "\n",
      "Processing Epoch 51...\n",
      "Epoch 51: 42.199999999999996% Accuracy\n",
      "\n",
      "Processing Epoch 52...\n",
      "Epoch 52: 38.733333333333334% Accuracy\n",
      "\n",
      "Processing Epoch 53...\n",
      "Epoch 53: 41.66666666666667% Accuracy\n",
      "\n",
      "Processing Epoch 54...\n",
      "Epoch 54: 40.266666666666666% Accuracy\n",
      "\n",
      "Processing Epoch 55...\n",
      "Epoch 55: 41.53333333333333% Accuracy\n",
      "\n",
      "Processing Epoch 56...\n",
      "Epoch 56: 39.53333333333333% Accuracy\n",
      "\n",
      "Processing Epoch 57...\n",
      "Epoch 57: 45.46666666666667% Accuracy\n",
      "\n",
      "Processing Epoch 58...\n",
      "Epoch 58: 100.0% Accuracy\n",
      "\n",
      "Processing Epoch 59...\n",
      "Epoch 59: 31.4% Accuracy\n",
      "\n",
      "Processing Epoch 60...\n",
      "Epoch 60: 42.53333333333333% Accuracy\n",
      "\n",
      "Processing Epoch 61...\n",
      "Epoch 61: 100.0% Accuracy\n",
      "\n",
      "Processing Epoch 62...\n",
      "Epoch 62: 55.00000000000001% Accuracy\n",
      "\n",
      "Processing Epoch 63...\n",
      "Epoch 63: 43.0% Accuracy\n",
      "\n",
      "Processing Epoch 64...\n",
      "Epoch 64: 41.6% Accuracy\n",
      "\n",
      "Processing Epoch 65...\n",
      "Epoch 65: 34.733333333333334% Accuracy\n",
      "\n",
      "Processing Epoch 66...\n",
      "Epoch 66: 50.93333333333333% Accuracy\n",
      "\n",
      "Processing Epoch 67...\n",
      "Epoch 67: 41.0% Accuracy\n",
      "\n",
      "Processing Epoch 68...\n",
      "Epoch 68: 42.46666666666667% Accuracy\n",
      "\n",
      "Processing Epoch 69...\n",
      "Epoch 69: 35.0% Accuracy\n",
      "\n",
      "Processing Epoch 70...\n",
      "Epoch 70: 41.86666666666667% Accuracy\n",
      "\n",
      "Processing Epoch 71...\n",
      "Epoch 71: 38.93333333333333% Accuracy\n",
      "\n",
      "Processing Epoch 72...\n",
      "Epoch 72: 42.66666666666667% Accuracy\n",
      "\n",
      "Processing Epoch 73...\n",
      "Epoch 73: 39.13333333333333% Accuracy\n",
      "\n",
      "Processing Epoch 74...\n",
      "Epoch 74: 44.6% Accuracy\n",
      "\n",
      "Processing Epoch 75...\n",
      "Epoch 75: 39.13333333333333% Accuracy\n",
      "\n",
      "Processing Epoch 76...\n",
      "Epoch 76: 34.93333333333333% Accuracy\n",
      "\n",
      "Processing Epoch 77...\n",
      "Epoch 77: 43.13333333333333% Accuracy\n",
      "\n",
      "Processing Epoch 78...\n",
      "Epoch 78: 37.6% Accuracy\n",
      "\n",
      "Processing Epoch 79...\n",
      "Epoch 79: 100.0% Accuracy\n",
      "\n",
      "Processing Epoch 80...\n",
      "Epoch 80: 41.333333333333336% Accuracy\n",
      "\n",
      "Processing Epoch 81...\n",
      "Epoch 81: 43.46666666666666% Accuracy\n",
      "\n",
      "Processing Epoch 82...\n",
      "Epoch 82: 35.4% Accuracy\n",
      "\n",
      "Processing Epoch 83...\n",
      "Epoch 83: 55.400000000000006% Accuracy\n",
      "\n",
      "Processing Epoch 84...\n",
      "Epoch 84: 43.8% Accuracy\n",
      "\n",
      "Processing Epoch 85...\n",
      "Epoch 85: 100.0% Accuracy\n",
      "\n",
      "Processing Epoch 86...\n",
      "Epoch 86: 47.333333333333336% Accuracy\n",
      "\n",
      "Processing Epoch 87...\n",
      "Epoch 87: 40.6% Accuracy\n",
      "\n",
      "Processing Epoch 88...\n",
      "Epoch 88: 50.33333333333333% Accuracy\n",
      "\n",
      "Processing Epoch 89...\n",
      "Epoch 89: 40.733333333333334% Accuracy\n",
      "\n",
      "Processing Epoch 90...\n",
      "Epoch 90: 46.53333333333333% Accuracy\n",
      "\n",
      "Processing Epoch 91...\n",
      "Epoch 91: 39.733333333333334% Accuracy\n",
      "\n",
      "Processing Epoch 92...\n",
      "Epoch 92: 41.46666666666667% Accuracy\n",
      "\n",
      "Processing Epoch 93...\n",
      "Epoch 93: 47.199999999999996% Accuracy\n",
      "\n",
      "Processing Epoch 94...\n",
      "Epoch 94: 40.33333333333333% Accuracy\n",
      "\n",
      "Processing Epoch 95...\n",
      "Epoch 95: 33.266666666666666% Accuracy\n",
      "\n",
      "Processing Epoch 96...\n",
      "Epoch 96: 100.0% Accuracy\n",
      "\n",
      "Processing Epoch 97...\n",
      "Epoch 97: 45.4% Accuracy\n",
      "\n",
      "Processing Epoch 98...\n",
      "Epoch 98: 46.666666666666664% Accuracy\n",
      "\n",
      "Processing Epoch 99...\n",
      "Epoch 99: 46.33333333333333% Accuracy\n",
      "\n"
     ]
    }
   ],
   "source": [
    "accuracies = []\n",
    "params = []\n",
    "\n",
    "for i in range(100):\n",
    "    print(f'Processing Epoch {i}...')\n",
    "    x_train, x_test, y_train, y_test, x, y = createRandomData()\n",
    "    best_param, test_accuracy, knn = runKNN(x_train, x_test, y_train, y_test, x, y)\n",
    "    accuracies.append(test_accuracy)\n",
    "    params.append(best_param['n_neighbors'])\n",
    "    print(f'Epoch {i}: {test_accuracy}% Accuracy\\n')"
   ]
  },
  {
   "cell_type": "code",
   "execution_count": 86,
   "metadata": {},
   "outputs": [
    {
     "name": "stdout",
     "output_type": "stream",
     "text": [
      "accuracies: [34.53333333333333, 39.06666666666666, 41.86666666666667, 38.266666666666666, 41.46666666666667, 38.4, 100.0, 42.733333333333334, 44.13333333333333, 53.13333333333333, 39.666666666666664, 38.0, 39.46666666666667, 100.0, 36.8, 37.8, 41.06666666666667, 44.266666666666666, 59.0, 39.800000000000004, 48.46666666666667, 40.666666666666664, 100.0, 52.93333333333333, 53.733333333333334, 36.266666666666666, 39.93333333333333, 44.93333333333333, 36.8, 46.733333333333334, 38.666666666666664, 39.93333333333333, 42.199999999999996, 36.199999999999996, 36.93333333333334, 100.0, 49.333333333333336, 42.333333333333336, 49.8, 45.4, 40.400000000000006, 100.0, 46.400000000000006, 31.333333333333336, 35.733333333333334, 43.46666666666666, 54.46666666666666, 52.733333333333334, 44.800000000000004, 51.800000000000004, 44.333333333333336, 42.199999999999996, 38.733333333333334, 41.66666666666667, 40.266666666666666, 41.53333333333333, 39.53333333333333, 45.46666666666667, 100.0, 31.4, 42.53333333333333, 100.0, 55.00000000000001, 43.0, 41.6, 34.733333333333334, 50.93333333333333, 41.0, 42.46666666666667, 35.0, 41.86666666666667, 38.93333333333333, 42.66666666666667, 39.13333333333333, 44.6, 39.13333333333333, 34.93333333333333, 43.13333333333333, 37.6, 100.0, 41.333333333333336, 43.46666666666666, 35.4, 55.400000000000006, 43.8, 100.0, 47.333333333333336, 40.6, 50.33333333333333, 40.733333333333334, 46.53333333333333, 39.733333333333334, 41.46666666666667, 47.199999999999996, 40.33333333333333, 33.266666666666666, 100.0, 45.4, 46.666666666666664, 46.33333333333333] \n",
      "\n",
      "parameters: [17, 9, 13, 17, 15, 19, 1, 13, 11, 9, 19, 17, 5, 1, 17, 19, 19, 13, 11, 13, 19, 17, 1, 11, 3, 19, 17, 19, 19, 11, 19, 17, 19, 13, 15, 1, 13, 7, 15, 19, 19, 1, 11, 17, 19, 13, 3, 3, 19, 5, 13, 19, 19, 19, 19, 19, 17, 11, 1, 17, 19, 1, 3, 13, 9, 17, 13, 19, 15, 19, 17, 11, 17, 19, 11, 5, 9, 19, 19, 1, 11, 9, 15, 3, 15, 1, 3, 15, 7, 19, 9, 19, 19, 11, 9, 9, 1, 11, 5, 19]\n"
     ]
    }
   ],
   "source": [
    "print('accuracies:', accuracies, '\\n')\n",
    "print('parameters:', params)"
   ]
  },
  {
   "cell_type": "code",
   "execution_count": 87,
   "metadata": {},
   "outputs": [
    {
     "data": {
      "image/png": "[encoded data removed]",
      "text/plain": [
       "<Figure size 432x288 with 1 Axes>"
      ]
     },
     "metadata": {
      "needs_background": "light"
     },
     "output_type": "display_data"
    }
   ],
   "source": [
    "data = pd.DataFrame({'accuracy':accuracies, 'parameters':params})\n",
    "sns.histplot(data=data, x='parameters');"
   ]
  },
  {
   "cell_type": "code",
   "execution_count": 79,
   "metadata": {},
   "outputs": [
    {
     "data": {
      "image/png": "[encoded data removed]",
      "text/plain": [
       "<Figure size 432x288 with 1 Axes>"
      ]
     },
     "metadata": {
      "needs_background": "light"
     },
     "output_type": "display_data"
    }
   ],
   "source": [
    "sns.histplot(data=data, x='accuracy');"
   ]
  },
  {
   "cell_type": "code",
   "execution_count": 83,
   "metadata": {},
   "outputs": [
    {
     "data": {
      "image/png": "[encoded data removed]",
      "text/plain": [
       "<Figure size 432x288 with 1 Axes>"
      ]
     },
     "metadata": {
      "needs_background": "light"
     },
     "output_type": "display_data"
    }
   ],
   "source": [
    "sns.scatterplot(data=data, x='parameters', y='accuracy', alpha=0.5);"
   ]
  },
  {
   "cell_type": "code",
   "execution_count": 90,
   "metadata": {},
   "outputs": [
    {
     "data": {
      "text/plain": [
       "accuracy      48.306\n",
       "parameters    12.620\n",
       "dtype: float64"
      ]
     },
     "execution_count": 90,
     "metadata": {},
     "output_type": "execute_result"
    }
   ],
   "source": [
    "data.mean()"
   ]
  },
  {
   "cell_type": "code",
   "execution_count": 91,
   "metadata": {},
   "outputs": [
    {
     "data": {
      "text/plain": [
       "accuracy      42.266667\n",
       "parameters    13.000000\n",
       "dtype: float64"
      ]
     },
     "execution_count": 91,
     "metadata": {},
     "output_type": "execute_result"
    }
   ],
   "source": [
    "data.median()"
   ]
  },
  {
   "cell_type": "markdown",
   "metadata": {},
   "source": [
    "From 100 iterations of random testing, we can see that the average accuracy is ~48.31% with an average k value of 12-13. Interestingly enough, some of these random iterations concluded that the best fit model was a k of 1, resulting in a 100% accuracy."
   ]
  },
  {
   "cell_type": "code",
   "execution_count": 37,
   "metadata": {},
   "outputs": [],
   "source": [
    "# from sklearn.metrics import multilabel_confusion_matrix\n",
    "# multilabel_confusion_matrix(y_test, y_test_hat, labels=np.unique(y_test_hat))"
   ]
  },
  {
   "cell_type": "code",
   "execution_count": null,
   "metadata": {},
   "outputs": [],
   "source": []
  }
 ],
 "metadata": {
  "interpreter": {
   "hash": "43b328d8ee08ef5c8dd037e214af0d89062a936209ea5ccf4632c478dc85c150"
  },
  "kernelspec": {
   "display_name": "Python 3",
   "language": "python",
   "name": "python3"
  },
  "language_info": {
   "codemirror_mode": {
    "name": "ipython",
    "version": 3
   },
   "file_extension": ".py",
   "mimetype": "text/x-python",
   "name": "python",
   "nbconvert_exporter": "python",
   "pygments_lexer": "ipython3",
   "version": "3.8.8"
  }
 },
 "nbformat": 4,
 "nbformat_minor": 2
}
