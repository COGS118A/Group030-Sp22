{
 "cells": [
  {
   "cell_type": "code",
   "execution_count": 1,
   "metadata": {},
   "outputs": [],
   "source": [
    "import os\n",
    "import matplotlib.pyplot as plt\n",
    "import matplotlib.image as mpimg\n",
    "from PIL import Image, ImageStat\n",
    "\n",
    "import json\n",
    "import numpy as np\n",
    "import cv2\n",
    "import pandas as pd\n",
    "\n",
    "from sklearn.neighbors import KNeighborsClassifier\n",
    "from sklearn.model_selection import train_test_split\n",
    "from imutils import paths\n",
    "import argparse\n",
    "import imutils\n",
    "\n",
    "\n",
    "from os import listdir\n",
    "from os.path import isfile, join"
   ]
  },
  {
   "cell_type": "code",
   "execution_count": 2,
   "metadata": {},
   "outputs": [],
   "source": [
    "import os\n",
    "import matplotlib.pyplot as plt\n",
    "import matplotlib.image as mpimg\n",
    "import random\n",
    "import json\n",
    "import numpy as np\n",
    "import cv2\n",
    "from matplotlib import pyplot\n",
    "\n",
    "#python -m pip install -U scikit-image\n",
    "import pandas as pd\n",
    "from sklearn import svm\n",
    "from sklearn.model_selection import GridSearchCV\n",
    "#from skimage.io import imread\n",
    "from skimage.io import imread\n",
    "from skimage.transform import resize\n",
    "\n",
    "from sklearn.model_selection import train_test_split\n",
    "from sklearn.metrics import classification_report, accuracy_score, confusion_matrix\n",
    "import pickle\n",
    "\n",
    "from sklearn.metrics import confusion_matrix\n",
    "from sklearn.metrics import multilabel_confusion_matrix\n",
    "import seaborn as sns\n",
    "\n"
   ]
  },
  {
   "cell_type": "code",
   "execution_count": 3,
   "metadata": {},
   "outputs": [],
   "source": [
    "dir = \"food-101/food-101/images/\"\n",
    "\n",
    "def imOpen(path):\n",
    "    imPath = dir + path\n",
    "    img = mpimg.imread(imPath)\n",
    "    return img\n",
    "\n",
    "def brightness(im_file):\n",
    "   im = Image.open(im_file).convert('L')\n",
    "   stat = ImageStat.Stat(im)\n",
    "   im.close\n",
    "   return stat.rms[0]\n",
    "\n",
    "def image_to_feature_vector(image, size=(256, 256)):\n",
    "    # resize the image to a fixed size, then flatten the image into\n",
    "    # a list of raw pixel intensities\n",
    "    return cv2.resize(image, size).flatten()\n",
    "\n",
    "def extract_color_histogram(image, bins=(8, 8, 8)):\n",
    "    # extract a 3D color histogram from the HSV color space using\n",
    "    # the supplied number of `bins` per channel\n",
    "    hsv = cv2.cvtColor(image, cv2.COLOR_BGR2HSV)\n",
    "    hist = cv2.calcHist([hsv], [0, 1, 2], None, bins,\n",
    "        [0, 180, 0, 256, 0, 256])\n",
    "    # handle normalizing the histogram if we are using OpenCV 2.4.X\n",
    "    if imutils.is_cv2():\n",
    "        hist = cv2.normalize(hist)\n",
    "    # otherwise, perform \"in place\" normalization in OpenCV 3 (I\n",
    "    # personally hate the way this is done\n",
    "    else:\n",
    "        cv2.normalize(hist, hist)\n",
    "    # return the flattened histogram as the feature vector\n",
    "    return hist.flatten()"
   ]
  },
  {
   "cell_type": "code",
   "execution_count": 4,
   "metadata": {},
   "outputs": [],
   "source": [
    "categories = open('food-101/food-101/meta/classes.txt').read().split()\n",
    "categories\n",
    "\n",
    "test = json.load(open('food-101/food-101/meta/test.json'))\n",
    "train = json.load(open('food-101/food-101/meta/train.json'))\n",
    "\n",
    "# count_test = np.array(list(test.values()))\n",
    "# print('Number of Test Images:', count_test.shape[0] * count_test.shape[1])\n",
    "\n",
    "# count_train = np.array(list(train.values()))\n",
    "# print('Number of Train Images:', count_train.shape[0] * count_train.shape[1])\n",
    "\n",
    "# whole = {}\n",
    "# for key in test.keys():\n",
    "#     whole[key] = test[key]\n",
    "#     whole[key] += train[key]\n",
    "\n",
    "# count_whole = np.array(list(whole.values()))\n",
    "# print('Total Number of Images:', count_whole.shape[0] * count_whole.shape[1])\n",
    "\n",
    "# print('Number of categories:', len(categories))\n",
    "# print('Number of photos per category:', len(whole['apple_pie']))\n",
    "# print('List of categories:', categories)\n",
    "\n",
    "# plt.imshow(imOpen(train[categories[0]][0] + '.jpg'));\n",
    "\n",
    "# print('\\nTrain Dataset')\n",
    "# print('Example Keys:', list(train.keys())[:5])\n",
    "# print('Example Values:', train['churros'][:5])\n",
    "# print('\\nTest Dataset')\n",
    "# print('Example Keys:', list(test.keys())[:5])\n",
    "# print('Example Values:', test['churros'][:5])"
   ]
  },
  {
   "cell_type": "code",
   "execution_count": 5,
   "metadata": {},
   "outputs": [
    {
     "name": "stdout",
     "output_type": "stream",
     "text": [
      "['2853890.jpg', '3134347.jpg', '421036.jpg', '2825284.jpg', '1578710.jpg', '2348133.jpg', '2745186.jpg', '2828161.jpg', '3746599.jpg', '80735.jpg', '2918880.jpg', '63651.jpg', '1717754.jpg', '2338398.jpg', '2576737.jpg', '1830582.jpg', '1034399.jpg', '1461580.jpg', '790787.jpg', '3139762.jpg', '603113.jpg', '3805347.jpg', '1443243.jpg', '3448753.jpg', '1335563.jpg']\n"
     ]
    }
   ],
   "source": [
    "#DATASET IS TOO LARGE AHHH\n",
    "#TIME TO RANDOM SAMPLE\n",
    "#Select number of images to be random sampled\n",
    "randomSampleCount = 50\n",
    "\n",
    "# random.seed(255)\n",
    "sequence = [i for i in range(1001)]\n",
    "randList = random.sample(sequence, randomSampleCount)\n",
    "\n",
    "randomSampled = []\n",
    "scaleddir = 'food-101/food-101/imagesScaled/'\n",
    "for cat in categories:\n",
    "    directory = scaleddir + cat\n",
    "    path = os.listdir(directory)\n",
    "    index = 0\n",
    "    imagesToBeSampled = []\n",
    "    for images in path:\n",
    "        index = index + 1\n",
    "        if(index in randList):\n",
    "            imagesToBeSampled.append(images)\n",
    "    randomSampled.append(imagesToBeSampled)\n",
    "print(randomSampled[0][:25])\n",
    "\n",
    "# 50 random images from each of the 101 categories"
   ]
  },
  {
   "cell_type": "code",
   "execution_count": 6,
   "metadata": {
    "scrolled": false
   },
   "outputs": [
    {
     "name": "stdout",
     "output_type": "stream",
     "text": [
      "processing category 0: filet_mignon...\n",
      "processing category 1: takoyaki...\n",
      "processing category 2: paella...\n",
      "processing category 3: creme_brulee...\n",
      "processing category 4: peking_duck...\n",
      "converting image data into dataframe...\n",
      "appending category name to dataframe...\n",
      "Splitting into train and test sets...\n",
      "\n",
      "Number of training data: 3500\n",
      "Number of testing data: 1500\n",
      "\n",
      "CPU times: user 19.6 s, sys: 585 ms, total: 20.1 s\n",
      "Wall time: 20.5 s\n"
     ]
    }
   ],
   "source": [
    "%%time\n",
    "\n",
    "#SVM WORK\n",
    "from sklearn.preprocessing import MinMaxScaler\n",
    "flat = []\n",
    "images2 = []\n",
    "#Resized array ***CRITICAL USE RESIZED ARRAY\n",
    "scaleddir = 'food-101/food-101/imagesScaled/'\n",
    "\n",
    "#This gets all images and puts them into a dataframe\n",
    "#DESIGN NOTES\n",
    "#Changes image size to 50x50 due to processign speed. 250x250 increases processing time by 30% which scales exponentially.\n",
    "index = 0\n",
    "for cat in random.sample(categories, 5): #categories[:50]:\n",
    "    print(f'processing category {index}: {cat}...')\n",
    "    directory = scaleddir + cat    \n",
    "    # path = randomSampled[index]\n",
    "    path = [f for f in listdir(directory) if isfile(join(directory, f))]\n",
    "    index = index + 1\n",
    "    for images in path:\n",
    "        toArr = imread(os.path.join(directory, images))\n",
    "        img_resized = resize(toArr, (50, 50, 3))\n",
    "        flat.append(img_resized.flatten())\n",
    "        images2.append(cat)\n",
    "\n",
    "print('converting image data into dataframe...')\n",
    "df = pd.DataFrame(np.array(flat))\n",
    "print('appending category name to dataframe...')\n",
    "df['Target'] = np.array(images2)\n",
    "\n",
    "#Here we create our test to data split, Default is 30\n",
    "ts = .30\n",
    "rs = 45\n",
    "x = df.iloc[:, :-1]\n",
    "y = df.iloc[:, -1]\n",
    "print('Splitting into train and test sets...')\n",
    "x_train, x_test, y_train, y_test = train_test_split(x, y, test_size=ts, random_state=rs, stratify=y)\n",
    "\n",
    "print()\n",
    "print(\"Number of training data: \" + str(len(x_train)))\n",
    "print(\"Number of testing data: \" + str(len(x_test)))\n",
    "print()\n",
    "\n"
   ]
  },
  {
   "cell_type": "code",
   "execution_count": 7,
   "metadata": {
    "scrolled": false
   },
   "outputs": [
    {
     "name": "stdout",
     "output_type": "stream",
     "text": [
      "Fitting 2 folds for each of 10 candidates, totalling 20 fits\n",
      "[CV 1/2] END ..................................n_neighbors=1; total time=   0.5s\n",
      "[CV 2/2] END ..................................n_neighbors=1; total time=   0.4s\n",
      "[CV 1/2] END ..................................n_neighbors=3; total time=   0.4s\n",
      "[CV 2/2] END ..................................n_neighbors=3; total time=   0.4s\n",
      "[CV 1/2] END ..................................n_neighbors=5; total time=   0.4s\n",
      "[CV 2/2] END ..................................n_neighbors=5; total time=   0.4s\n",
      "[CV 1/2] END ..................................n_neighbors=7; total time=   0.4s\n",
      "[CV 2/2] END ..................................n_neighbors=7; total time=   0.4s\n",
      "[CV 1/2] END ..................................n_neighbors=9; total time=   0.4s\n",
      "[CV 2/2] END ..................................n_neighbors=9; total time=   0.4s\n",
      "[CV 1/2] END .................................n_neighbors=11; total time=   0.4s\n",
      "[CV 2/2] END .................................n_neighbors=11; total time=   0.4s\n",
      "[CV 1/2] END .................................n_neighbors=13; total time=   0.4s\n",
      "[CV 2/2] END .................................n_neighbors=13; total time=   0.4s\n",
      "[CV 1/2] END .................................n_neighbors=15; total time=   0.4s\n",
      "[CV 2/2] END .................................n_neighbors=15; total time=   0.4s\n",
      "[CV 1/2] END .................................n_neighbors=17; total time=   0.4s\n",
      "[CV 2/2] END .................................n_neighbors=17; total time=   0.4s\n",
      "[CV 1/2] END .................................n_neighbors=19; total time=   0.4s\n",
      "[CV 2/2] END .................................n_neighbors=19; total time=   0.4s\n",
      "{'n_neighbors': 19}\n",
      "Accuracy for our training dataset with tuning is : 28.71%\n",
      "Accuracy for our testing dataset with tuning is : 32.53%\n",
      "CPU times: user 1min 45s, sys: 9.84 s, total: 1min 55s\n",
      "Wall time: 14.6 s\n"
     ]
    }
   ],
   "source": [
    "%%time\n",
    "from sklearn.neighbors import KNeighborsClassifier\n",
    "\n",
    "knn = KNeighborsClassifier()\n",
    "from sklearn.model_selection import GridSearchCV\n",
    "k_range = list(range(1,21, 2))\n",
    "param_grid = dict(n_neighbors = k_range)\n",
    "\n",
    "grid = GridSearchCV(knn, param_grid, cv=2, scoring='accuracy', return_train_score=True, verbose=3)\n",
    "grid_search = grid.fit(x_train, y_train)\n",
    "\n",
    "print(grid_search.best_params_)\n",
    "accuracy = grid_search.best_score_ *100\n",
    "print(\"Accuracy for our training dataset with tuning is : {:.2f}%\".format(accuracy))\n",
    "\n",
    "knn2 = KNeighborsClassifier(n_neighbors=grid_search.best_params_['n_neighbors'])\n",
    "knn2.fit(x, y)\n",
    "y_test_hat=knn2.predict(x_test) \n",
    "test_accuracy=np.mean(y_test_hat == y_test)*100 # accuracy_score(y_test,y_test_hat)*100\n",
    "print(\"Accuracy for our testing dataset with tuning is : {:.2f}%\".format(test_accuracy))"
   ]
  },
  {
   "cell_type": "code",
   "execution_count": 8,
   "metadata": {},
   "outputs": [
    {
     "data": {
      "image/png": "[encoded data removed]",
      "text/plain": [
       "<Figure size 432x288 with 2 Axes>"
      ]
     },
     "metadata": {
      "needs_background": "light"
     },
     "output_type": "display_data"
    }
   ],
   "source": [
    "cf_matrix = confusion_matrix(y_test, y_test_hat)\n",
    "\n",
    "ax = sns.heatmap(cf_matrix, fmt=\"d\", annot=True, cmap='coolwarm')\n",
    "\n",
    "ax.set_xlabel('\\nPredicted Values')\n",
    "ax.set_ylabel('Actual Values ');"
   ]
  },
  {
   "cell_type": "code",
   "execution_count": 9,
   "metadata": {},
   "outputs": [],
   "source": [
    "def createRandomData():\n",
    "    flat = []\n",
    "    images2 = []\n",
    "    scaleddir = 'food-101/food-101/imagesScaled/'\n",
    "\n",
    "    index = 0\n",
    "    cat_list = random.sample(categories, 5)\n",
    "    for cat in cat_list: \n",
    "        directory = scaleddir + cat    \n",
    "        path = [f for f in listdir(directory) if isfile(join(directory, f))]\n",
    "        index = index + 1\n",
    "        for images in path:\n",
    "            toArr = imread(os.path.join(directory, images))\n",
    "            img_resized = resize(toArr, (50, 50, 3)) \n",
    "            flat.append(img_resized.flatten())\n",
    "            images2.append(cat)\n",
    "\n",
    "    df = pd.DataFrame(np.array(flat))\n",
    "    df['Target'] = np.array(images2)\n",
    "\n",
    "    ts = .30\n",
    "    rs = 45\n",
    "    x = df.iloc[:, :-1]\n",
    "    y = df.iloc[:, -1]\n",
    "    x_train, x_test, y_train, y_test = train_test_split(x, y, test_size=ts, random_state=rs, stratify=y)\n",
    "\n",
    "    return x_train, x_test, y_train, y_test, x, y, cat_list"
   ]
  },
  {
   "cell_type": "code",
   "execution_count": 10,
   "metadata": {},
   "outputs": [],
   "source": [
    "def runKNN(x_train, x_test, y_train, y_test, x, y, cat_list):\n",
    "    \n",
    "    knn = KNeighborsClassifier()\n",
    "    k_range = list(range(1,21, 2))\n",
    "    param_grid = dict(n_neighbors = k_range)\n",
    "\n",
    "    grid = GridSearchCV(knn, param_grid, cv=2, scoring='accuracy')\n",
    "    grid_search = grid.fit(x_train, y_train)\n",
    "\n",
    "    best_param = grid_search.best_params_\n",
    "\n",
    "    knn2 = KNeighborsClassifier(n_neighbors=grid_search.best_params_['n_neighbors'])\n",
    "    knn2.fit(x, y)\n",
    "    y_test_hat = knn2.predict(x_test) \n",
    "    test_accuracy = np.mean(y_test_hat == y_test)*100 \n",
    "    multi_confusion_matrix = multilabel_confusion_matrix(y_test, y_test_hat, labels=cat_list)\n",
    "    full_cfmatrix = confusion_matrix(y_test, y_test_hat)\n",
    "    \n",
    "    return best_param, test_accuracy, knn2, multi_confusion_matrix, full_cfmatrix"
   ]
  },
  {
   "cell_type": "code",
   "execution_count": 11,
   "metadata": {},
   "outputs": [],
   "source": [
    "# %%time\n",
    "# x_train, x_test, y_train, y_test, x, y = createRandomData()\n",
    "# best_param, test_accuracy, knn = runKNN(x_train, x_test, y_train, y_test, x, y)\n",
    "# print(best_param, test_accuracy)"
   ]
  },
  {
   "cell_type": "code",
   "execution_count": 12,
   "metadata": {
    "scrolled": false
   },
   "outputs": [],
   "source": [
    "# SAVED IN PICKLE\n",
    "# accuracies = []\n",
    "# params = []\n",
    "# cats = []\n",
    "# c_matrices = []\n",
    "# full_cfmatrices = []\n",
    "\n",
    "# for i in range(100):\n",
    "#     print(f'Processing Epoch {i}...')\n",
    "#     x_train, x_test, y_train, y_test, x, y, cat_list = createRandomData()\n",
    "#     cats.append(cat_list)\n",
    "#     best_param, test_accuracy, knn, confusion_matrices, full_cfmatrix = runKNN(x_train, x_test, y_train, y_test, x, y, cat_list)\n",
    "#     full_cfmatrices.append(full_cfmatrix)\n",
    "#     c_matrices.append(confusion_matrices)\n",
    "#     accuracies.append(test_accuracy)\n",
    "#     params.append(best_param['n_neighbors'])\n",
    "#     print(f'Epoch {i}: {test_accuracy}% Accuracy at {best_param[\"n_neighbors\"]} Neighbors\\n')"
   ]
  },
  {
   "cell_type": "code",
   "execution_count": 13,
   "metadata": {},
   "outputs": [],
   "source": [
    "# data = pd.DataFrame({'accuracy':accuracies,\n",
    "#                      'parameters':params,\n",
    "#                      'categories': cats,\n",
    "#                      'confusion matrices': c_matrices,\n",
    "#                      'confusionMatrix': full_cfmatrices\n",
    "#                     })\n",
    "\n",
    "# data['category1'] = data['categories'].str[0]\n",
    "# data['category2'] = data['categories'].str[1]\n",
    "# data['category3'] = data['categories'].str[2]\n",
    "# data['category4'] = data['categories'].str[3]\n",
    "# data['category5'] = data['categories'].str[4]\n",
    "# data['cf1'] = data['confusion matrices'].str[0]\n",
    "# data['cf2'] = data['confusion matrices'].str[1]\n",
    "# data['cf3'] = data['confusion matrices'].str[2]\n",
    "# data['cf4'] = data['confusion matrices'].str[3]\n",
    "# data['cf5'] = data['confusion matrices'].str[4]\n",
    "\n",
    "# data = data.drop(columns=['categories', 'confusion matrices'], axis=1)\n",
    "# data"
   ]
  },
  {
   "cell_type": "code",
   "execution_count": 14,
   "metadata": {},
   "outputs": [],
   "source": [
    "# data.to_pickle('knn_trials.pkl')"
   ]
  },
  {
   "cell_type": "code",
   "execution_count": 15,
   "metadata": {},
   "outputs": [
    {
     "data": {
      "text/html": [
       "<div>\n",
       "<style scoped>\n",
       "    .dataframe tbody tr th:only-of-type {\n",
       "        vertical-align: middle;\n",
       "    }\n",
       "\n",
       "    .dataframe tbody tr th {\n",
       "        vertical-align: top;\n",
       "    }\n",
       "\n",
       "    .dataframe thead th {\n",
       "        text-align: right;\n",
       "    }\n",
       "</style>\n",
       "<table border=\"1\" class=\"dataframe\">\n",
       "  <thead>\n",
       "    <tr style=\"text-align: right;\">\n",
       "      <th></th>\n",
       "      <th>accuracy</th>\n",
       "      <th>parameters</th>\n",
       "      <th>confusionMatrix</th>\n",
       "      <th>category1</th>\n",
       "      <th>category2</th>\n",
       "      <th>category3</th>\n",
       "      <th>category4</th>\n",
       "      <th>category5</th>\n",
       "      <th>cf1</th>\n",
       "      <th>cf2</th>\n",
       "      <th>cf3</th>\n",
       "      <th>cf4</th>\n",
       "      <th>cf5</th>\n",
       "    </tr>\n",
       "  </thead>\n",
       "  <tbody>\n",
       "    <tr>\n",
       "      <th>0</th>\n",
       "      <td>43.000000</td>\n",
       "      <td>15</td>\n",
       "      <td>[[99, 7, 2, 42, 150], [59, 38, 8, 54, 141], [4...</td>\n",
       "      <td>macarons</td>\n",
       "      <td>beet_salad</td>\n",
       "      <td>beef_carpaccio</td>\n",
       "      <td>chocolate_cake</td>\n",
       "      <td>shrimp_and_grits</td>\n",
       "      <td>[[1017, 183], [128, 172]]</td>\n",
       "      <td>[[1152, 48], [262, 38]]</td>\n",
       "      <td>[[1060, 140], [201, 99]]</td>\n",
       "      <td>[[1183, 17], [208, 92]]</td>\n",
       "      <td>[[733, 467], [56, 244]]</td>\n",
       "    </tr>\n",
       "    <tr>\n",
       "      <th>1</th>\n",
       "      <td>46.333333</td>\n",
       "      <td>19</td>\n",
       "      <td>[[78, 80, 61, 48, 33], [14, 216, 16, 30, 24], ...</td>\n",
       "      <td>cup_cakes</td>\n",
       "      <td>filet_mignon</td>\n",
       "      <td>hamburger</td>\n",
       "      <td>poutine</td>\n",
       "      <td>caprese_salad</td>\n",
       "      <td>[[946, 254], [84, 216]]</td>\n",
       "      <td>[[1055, 145], [119, 181]]</td>\n",
       "      <td>[[1004, 196], [178, 122]]</td>\n",
       "      <td>[[1084, 116], [202, 98]]</td>\n",
       "      <td>[[1106, 94], [222, 78]]</td>\n",
       "    </tr>\n",
       "    <tr>\n",
       "      <th>2</th>\n",
       "      <td>39.666667</td>\n",
       "      <td>9</td>\n",
       "      <td>[[128, 129, 2, 30, 11], [26, 249, 5, 13, 7], [...</td>\n",
       "      <td>sushi</td>\n",
       "      <td>garlic_bread</td>\n",
       "      <td>fried_calamari</td>\n",
       "      <td>ramen</td>\n",
       "      <td>nachos</td>\n",
       "      <td>[[1166, 34], [241, 59]]</td>\n",
       "      <td>[[630, 570], [51, 249]]</td>\n",
       "      <td>[[1052, 148], [172, 128]]</td>\n",
       "      <td>[[1088, 112], [186, 114]]</td>\n",
       "      <td>[[1159, 41], [255, 45]]</td>\n",
       "    </tr>\n",
       "    <tr>\n",
       "      <th>3</th>\n",
       "      <td>52.000000</td>\n",
       "      <td>5</td>\n",
       "      <td>[[141, 41, 25, 12, 81], [12, 136, 16, 22, 114]...</td>\n",
       "      <td>macaroni_and_cheese</td>\n",
       "      <td>cup_cakes</td>\n",
       "      <td>hummus</td>\n",
       "      <td>fried_rice</td>\n",
       "      <td>spaghetti_carbonara</td>\n",
       "      <td>[[1123, 77], [167, 133]]</td>\n",
       "      <td>[[1162, 38], [159, 141]]</td>\n",
       "      <td>[[1093, 107], [170, 130]]</td>\n",
       "      <td>[[1053, 147], [164, 136]]</td>\n",
       "      <td>[[849, 351], [60, 240]]</td>\n",
       "    </tr>\n",
       "    <tr>\n",
       "      <th>4</th>\n",
       "      <td>41.400000</td>\n",
       "      <td>17</td>\n",
       "      <td>[[151, 63, 47, 28, 11], [63, 195, 20, 19, 3], ...</td>\n",
       "      <td>strawberry_shortcake</td>\n",
       "      <td>deviled_eggs</td>\n",
       "      <td>takoyaki</td>\n",
       "      <td>cheesecake</td>\n",
       "      <td>grilled_salmon</td>\n",
       "      <td>[[1083, 117], [201, 99]]</td>\n",
       "      <td>[[888, 312], [105, 195]]</td>\n",
       "      <td>[[1168, 32], [254, 46]]</td>\n",
       "      <td>[[938, 262], [149, 151]]</td>\n",
       "      <td>[[1044, 156], [170, 130]]</td>\n",
       "    </tr>\n",
       "  </tbody>\n",
       "</table>\n",
       "</div>"
      ],
      "text/plain": [
       "    accuracy  parameters                                    confusionMatrix  \\\n",
       "0  43.000000          15  [[99, 7, 2, 42, 150], [59, 38, 8, 54, 141], [4...   \n",
       "1  46.333333          19  [[78, 80, 61, 48, 33], [14, 216, 16, 30, 24], ...   \n",
       "2  39.666667           9  [[128, 129, 2, 30, 11], [26, 249, 5, 13, 7], [...   \n",
       "3  52.000000           5  [[141, 41, 25, 12, 81], [12, 136, 16, 22, 114]...   \n",
       "4  41.400000          17  [[151, 63, 47, 28, 11], [63, 195, 20, 19, 3], ...   \n",
       "\n",
       "              category1     category2       category3       category4  \\\n",
       "0              macarons    beet_salad  beef_carpaccio  chocolate_cake   \n",
       "1             cup_cakes  filet_mignon       hamburger         poutine   \n",
       "2                 sushi  garlic_bread  fried_calamari           ramen   \n",
       "3   macaroni_and_cheese     cup_cakes          hummus      fried_rice   \n",
       "4  strawberry_shortcake  deviled_eggs        takoyaki      cheesecake   \n",
       "\n",
       "             category5                        cf1                        cf2  \\\n",
       "0     shrimp_and_grits  [[1017, 183], [128, 172]]    [[1152, 48], [262, 38]]   \n",
       "1        caprese_salad    [[946, 254], [84, 216]]  [[1055, 145], [119, 181]]   \n",
       "2               nachos    [[1166, 34], [241, 59]]    [[630, 570], [51, 249]]   \n",
       "3  spaghetti_carbonara   [[1123, 77], [167, 133]]   [[1162, 38], [159, 141]]   \n",
       "4       grilled_salmon   [[1083, 117], [201, 99]]   [[888, 312], [105, 195]]   \n",
       "\n",
       "                         cf3                        cf4  \\\n",
       "0   [[1060, 140], [201, 99]]    [[1183, 17], [208, 92]]   \n",
       "1  [[1004, 196], [178, 122]]   [[1084, 116], [202, 98]]   \n",
       "2  [[1052, 148], [172, 128]]  [[1088, 112], [186, 114]]   \n",
       "3  [[1093, 107], [170, 130]]  [[1053, 147], [164, 136]]   \n",
       "4    [[1168, 32], [254, 46]]   [[938, 262], [149, 151]]   \n",
       "\n",
       "                         cf5  \n",
       "0    [[733, 467], [56, 244]]  \n",
       "1    [[1106, 94], [222, 78]]  \n",
       "2    [[1159, 41], [255, 45]]  \n",
       "3    [[849, 351], [60, 240]]  \n",
       "4  [[1044, 156], [170, 130]]  "
      ]
     },
     "execution_count": 15,
     "metadata": {},
     "output_type": "execute_result"
    }
   ],
   "source": [
    "data = pd.read_pickle('knn_trials.pkl')\n",
    "data.head()"
   ]
  },
  {
   "cell_type": "code",
   "execution_count": 16,
   "metadata": {},
   "outputs": [
    {
     "data": {
      "image/png": "[encoded data removed]",
      "text/plain": [
       "<Figure size 432x288 with 1 Axes>"
      ]
     },
     "metadata": {
      "needs_background": "light"
     },
     "output_type": "display_data"
    }
   ],
   "source": [
    "sns.histplot(data=data, x='parameters', bins=range(1,22,2)).set(\n",
    "    title = 'Frequency of K-NN Hyperparameter',\n",
    "    xlabel = 'Hyperparameter (K)',\n",
    "    ylabel = 'Count');"
   ]
  },
  {
   "cell_type": "code",
   "execution_count": 17,
   "metadata": {},
   "outputs": [
    {
     "data": {
      "image/png": "[encoded data removed]",
      "text/plain": [
       "<Figure size 432x288 with 1 Axes>"
      ]
     },
     "metadata": {
      "needs_background": "light"
     },
     "output_type": "display_data"
    }
   ],
   "source": [
    "sns.histplot(data=data, x='accuracy').set(\n",
    "    title = 'Distribution of Model Accuracies',\n",
    "    xlabel = 'Accuracy',\n",
    "    ylabel = 'Count');"
   ]
  },
  {
   "cell_type": "code",
   "execution_count": 18,
   "metadata": {},
   "outputs": [
    {
     "data": {
      "image/png": "[encoded data removed]",
      "text/plain": [
       "<Figure size 432x288 with 1 Axes>"
      ]
     },
     "metadata": {
      "needs_background": "light"
     },
     "output_type": "display_data"
    }
   ],
   "source": [
    "sns.regplot(x=\"parameters\", y=\"accuracy\", data=data, x_jitter=0.1).set(\n",
    "    title = 'Accuracy versus K-NN Hyperparameter',\n",
    "    xlabel = 'Hyperparameter (K)',\n",
    "    ylabel = 'Accuracy');"
   ]
  },
  {
   "cell_type": "code",
   "execution_count": 19,
   "metadata": {},
   "outputs": [
    {
     "data": {
      "text/plain": [
       "accuracy      46.166667\n",
       "parameters    13.480000\n",
       "dtype: float64"
      ]
     },
     "execution_count": 19,
     "metadata": {},
     "output_type": "execute_result"
    }
   ],
   "source": [
    "data.mean()"
   ]
  },
  {
   "cell_type": "code",
   "execution_count": 20,
   "metadata": {},
   "outputs": [
    {
     "data": {
      "text/plain": [
       "accuracy      42.966667\n",
       "parameters    15.000000\n",
       "dtype: float64"
      ]
     },
     "execution_count": 20,
     "metadata": {},
     "output_type": "execute_result"
    }
   ],
   "source": [
    "data.median()"
   ]
  },
  {
   "cell_type": "markdown",
   "metadata": {},
   "source": [
    "From 100 iterations of random testing, we can see that the average accuracy is ~46.17% with an average k value of 13-14. Interestingly enough, some of these random iterations concluded that the best fit model was a k of 1, resulting in a 100% accuracy."
   ]
  },
  {
   "cell_type": "code",
   "execution_count": 21,
   "metadata": {
    "scrolled": false
   },
   "outputs": [],
   "source": [
    "def printConfusion(df, index):\n",
    "    fig, axes = plt.subplots(2, 3)\n",
    "    fig.suptitle('Confusion Matrices for Overall and Individual Categories')\n",
    "    axes[0,0].title.set_text(df['category1'].iloc[index])\n",
    "    sns.heatmap(df['cf1'].iloc[index], fmt=\"d\", annot=True, ax=axes[0, 0], cmap='coolwarm')\n",
    "    axes[0,1].title.set_text(df['category2'].iloc[index])\n",
    "    sns.heatmap(df['cf2'].iloc[index], fmt=\"d\", annot=True, ax=axes[0, 1], cmap='coolwarm')\n",
    "    axes[0,2].title.set_text(df['category3'].iloc[index])\n",
    "    sns.heatmap(df['cf3'].iloc[index], fmt=\"d\", annot=True, ax=axes[0, 2], cmap='coolwarm')\n",
    "    axes[1,0].title.set_text(df['category4'].iloc[index])\n",
    "    sns.heatmap(df['cf4'].iloc[index], fmt=\"d\", annot=True, ax=axes[1, 0], cmap='coolwarm')\n",
    "    axes[1,1].title.set_text(df['category5'].iloc[index])\n",
    "    sns.heatmap(df['cf5'].iloc[index], fmt=\"d\", annot=True, ax=axes[1, 1], cmap='coolwarm')\n",
    "    axes[1,2].title.set_text('Overall Confusion Matrix')\n",
    "    sns.heatmap(df['confusionMatrix'].iloc[index], fmt=\"d\", annot=True, ax=axes[1,2], cmap='coolwarm')\n",
    "    fig.set_figheight(9)\n",
    "    fig.set_figwidth(15)\n",
    "    \n",
    "    fig.add_subplot(111, frame_on=False)\n",
    "    plt.tick_params(labelcolor=\"none\", bottom=False, left=False)\n",
    "    plt.xlabel(\"\\nActual Values\")\n",
    "    plt.ylabel(\"Predicted Values\")"
   ]
  },
  {
   "cell_type": "code",
   "execution_count": 22,
   "metadata": {},
   "outputs": [
    {
     "data": {
      "image/png": "[encoded data removed]",
      "text/plain": [
       "<Figure size 1080x648 with 13 Axes>"
      ]
     },
     "metadata": {
      "needs_background": "light"
     },
     "output_type": "display_data"
    }
   ],
   "source": [
    "printConfusion(data, 0)"
   ]
  },
  {
   "cell_type": "code",
   "execution_count": null,
   "metadata": {},
   "outputs": [],
   "source": []
  }
 ],
 "metadata": {
  "interpreter": {
   "hash": "43b328d8ee08ef5c8dd037e214af0d89062a936209ea5ccf4632c478dc85c150"
  },
  "kernelspec": {
   "display_name": "Python 3",
   "language": "python",
   "name": "python3"
  },
  "language_info": {
   "codemirror_mode": {
    "name": "ipython",
    "version": 3
   },
   "file_extension": ".py",
   "mimetype": "text/x-python",
   "name": "python",
   "nbconvert_exporter": "python",
   "pygments_lexer": "ipython3",
   "version": "3.8.8"
  }
 },
 "nbformat": 4,
 "nbformat_minor": 2
}
