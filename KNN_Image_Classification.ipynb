{
 "cells": [
  {
   "cell_type": "code",
   "execution_count": 1,
   "metadata": {},
   "outputs": [],
   "source": [
    "import os\n",
    "import matplotlib.pyplot as plt\n",
    "import matplotlib.image as mpimg\n",
    "from PIL import Image, ImageStat\n",
    "\n",
    "import json\n",
    "import numpy as np\n",
    "import cv2\n",
    "import pandas as pd\n",
    "\n",
    "from sklearn.neighbors import KNeighborsClassifier\n",
    "from sklearn.model_selection import train_test_split\n",
    "from imutils import paths\n",
    "import argparse\n",
    "import imutils\n",
    "\n",
    "\n",
    "from os import listdir\n",
    "from os.path import isfile, join\n",
    "\n",
    "import os\n",
    "import matplotlib.pyplot as plt\n",
    "import matplotlib.image as mpimg\n",
    "import random\n",
    "import json\n",
    "import numpy as np\n",
    "import cv2\n",
    "from matplotlib import pyplot\n",
    "\n",
    "#python -m pip install -U scikit-image\n",
    "import pandas as pd\n",
    "from sklearn import svm\n",
    "from sklearn.model_selection import GridSearchCV\n",
    "#from skimage.io import imread\n",
    "from skimage.io import imread\n",
    "from skimage.transform import resize\n",
    "\n",
    "from sklearn.model_selection import train_test_split\n",
    "from sklearn.metrics import classification_report, accuracy_score, confusion_matrix\n",
    "import pickle\n",
    "from sklearn.neighbors import KNeighborsClassifier\n",
    "from sklearn.model_selection import GridSearchCV\n",
    "\n",
    "from sklearn.metrics import confusion_matrix\n",
    "from sklearn.metrics import multilabel_confusion_matrix\n",
    "import seaborn as sns\n",
    "\n",
    "dir = \"food-101/food-101/images/\"\n",
    "\n",
    "def imOpen(path):\n",
    "    imPath = dir + path\n",
    "    img = mpimg.imread(imPath)\n",
    "    return img"
   ]
  },
  {
   "cell_type": "code",
   "execution_count": 3,
   "metadata": {},
   "outputs": [],
   "source": [
    "\n",
    "\n",
    "# def brightness(im_file):\n",
    "#    im = Image.open(im_file).convert('L')\n",
    "#    stat = ImageStat.Stat(im)\n",
    "#    im.close\n",
    "#    return stat.rms[0]\n",
    "\n",
    "# def image_to_feature_vector(image, size=(256, 256)):\n",
    "#     # resize the image to a fixed size, then flatten the image into\n",
    "#     # a list of raw pixel intensities\n",
    "#     return cv2.resize(image, size).flatten()\n",
    "\n",
    "# def extract_color_histogram(image, bins=(8, 8, 8)):\n",
    "#     # extract a 3D color histogram from the HSV color space using\n",
    "#     # the supplied number of `bins` per channel\n",
    "#     hsv = cv2.cvtColor(image, cv2.COLOR_BGR2HSV)\n",
    "#     hist = cv2.calcHist([hsv], [0, 1, 2], None, bins,\n",
    "#         [0, 180, 0, 256, 0, 256])\n",
    "#     # handle normalizing the histogram if we are using OpenCV 2.4.X\n",
    "#     if imutils.is_cv2():\n",
    "#         hist = cv2.normalize(hist)\n",
    "#     # otherwise, perform \"in place\" normalization in OpenCV 3 (I\n",
    "#     # personally hate the way this is done\n",
    "#     else:\n",
    "#         cv2.normalize(hist, hist)\n",
    "#     # return the flattened histogram as the feature vector\n",
    "#     return hist.flatten()"
   ]
  },
  {
   "cell_type": "code",
   "execution_count": 4,
   "metadata": {},
   "outputs": [],
   "source": [
    "# categories = open('food-101/food-101/meta/classes.txt').read().split()\n",
    "\n",
    "# test = json.load(open('food-101/food-101/meta/test.json'))\n",
    "# train = json.load(open('food-101/food-101/meta/train.json'))\n",
    "\n",
    "# count_test = np.array(list(test.values()))\n",
    "# print('Number of Test Images:', count_test.shape[0] * count_test.shape[1])\n",
    "\n",
    "# count_train = np.array(list(train.values()))\n",
    "# print('Number of Train Images:', count_train.shape[0] * count_train.shape[1])\n",
    "\n",
    "# whole = {}\n",
    "# for key in test.keys():\n",
    "#     whole[key] = test[key]\n",
    "#     whole[key] += train[key]\n",
    "\n",
    "# count_whole = np.array(list(whole.values()))\n",
    "# print('Total Number of Images:', count_whole.shape[0] * count_whole.shape[1])\n",
    "\n",
    "# print('Number of categories:', len(categories))\n",
    "# print('Number of photos per category:', len(whole['apple_pie']))\n",
    "# print('List of categories:', categories)\n",
    "\n",
    "# plt.imshow(imOpen(train[categories[0]][0] + '.jpg'));\n",
    "\n",
    "# print('\\nTrain Dataset')\n",
    "# print('Example Keys:', list(train.keys())[:5])\n",
    "# print('Example Values:', train['churros'][:5])\n",
    "# print('\\nTest Dataset')\n",
    "# print('Example Keys:', list(test.keys())[:5])\n",
    "# print('Example Values:', test['churros'][:5])"
   ]
  },
  {
   "cell_type": "code",
   "execution_count": 5,
   "metadata": {},
   "outputs": [],
   "source": [
    "# #Select number of images to be random sampled\n",
    "# randomSampleCount = 50\n",
    "\n",
    "# # random.seed(255)\n",
    "# sequence = [i for i in range(1001)]\n",
    "# randList = random.sample(sequence, randomSampleCount)\n",
    "\n",
    "# randomSampled = []\n",
    "# scaleddir = 'food-101/food-101/imagesScaled/'\n",
    "# for cat in categories:\n",
    "#     directory = scaleddir + cat\n",
    "#     path = os.listdir(directory)\n",
    "#     index = 0\n",
    "#     imagesToBeSampled = []\n",
    "#     for images in path:\n",
    "#         index = index + 1\n",
    "#         if(index in randList):\n",
    "#             imagesToBeSampled.append(images)\n",
    "#     randomSampled.append(imagesToBeSampled)\n",
    "# print(randomSampled[0][:25])\n",
    "\n",
    "# # 50 random images from each of the 101 categories"
   ]
  },
  {
   "cell_type": "markdown",
   "metadata": {},
   "source": [
    "### KNN\n",
    "In this section we will detail our process for using KNN to attempt to perform classification on a subset of food images.\n",
    "\n",
    "Similarly to our SVM model:\n",
    "\n",
    "- We only used 5 food categories, each containint 1000 images where we created a 70/30 training/test split.\n",
    "- Each image was of size 50x50 as KNN does not do well with high dimensional data and the original 250x250 (plus 3 color channels) would result in 187,500 features.\n",
    "- Each category was randomly sampled from the full set of 101 categories.\n",
    "- This model uses the random seed 118 to reproduce results.\n",
    "- While the KNN training runtime was significantly faster than that of SVM, we still chose to train the model on only five categories to maintain consistency between models and for ease of comparison later on.\n",
    "\n",
    "Below is the code that randomly samples 5 categories from the entire list of food categories and processes the images into a dataframe. This dataframe of image data is then split into train and test sets to be used in the KNN model."
   ]
  },
  {
   "cell_type": "code",
   "execution_count": 6,
   "metadata": {
    "scrolled": false
   },
   "outputs": [
    {
     "name": "stdout",
     "output_type": "stream",
     "text": [
      "processing category 0: spaghetti_carbonara...\n",
      "processing category 1: pulled_pork_sandwich...\n",
      "processing category 2: churros...\n",
      "processing category 3: foie_gras...\n",
      "processing category 4: cannoli...\n",
      "converting image data into dataframe...\n",
      "appending category name to dataframe...\n",
      "Splitting into train and test sets...\n",
      "\n",
      "Number of training data: 3500\n",
      "Number of testing data: 1500\n"
     ]
    }
   ],
   "source": [
    "random.seed(118)\n",
    "categories = open('food-101/food-101/meta/classes.txt').read().split()\n",
    "test = json.load(open('food-101/food-101/meta/test.json'))\n",
    "train = json.load(open('food-101/food-101/meta/train.json'))\n",
    "\n",
    "# KNN Work\n",
    "flat = []\n",
    "images2 = []\n",
    "# Resized array ***CRITICAL USE RESIZED ARRAY\n",
    "scaleddir = 'food-101/food-101/imagesScaled/'\n",
    "\n",
    "# This gets all images and puts them into a dataframe\n",
    "# DESIGN NOTES\n",
    "# Changes image size to 50x50 due to processign speed.\n",
    "# KNN does not work well with high dimensional data so, 250x250 is too much\n",
    "index = 0\n",
    "for cat in random.sample(categories, 5): #categories[:50]:\n",
    "    print(f'processing category {index}: {cat}...')\n",
    "    directory = scaleddir + cat    \n",
    "    # path = randomSampled[index]\n",
    "    path = [f for f in listdir(directory) if isfile(join(directory, f))]\n",
    "    index = index + 1\n",
    "    for images in path:\n",
    "        toArr = imread(os.path.join(directory, images))\n",
    "        img_resized = resize(toArr, (50, 50, 3))\n",
    "        flat.append(img_resized.flatten())\n",
    "        images2.append(cat)\n",
    "\n",
    "print('converting image data into dataframe...')\n",
    "df = pd.DataFrame(np.array(flat))\n",
    "print('appending category name to dataframe...')\n",
    "df['Target'] = np.array(images2)\n",
    "\n",
    "#Here we create our test to data split, Default is 30\n",
    "ts = .30\n",
    "rs = 45\n",
    "x = df.iloc[:, :-1]\n",
    "y = df.iloc[:, -1]\n",
    "print('Splitting into train and test sets...\\n')\n",
    "x_train, x_test, y_train, y_test = train_test_split(x, y, test_size=ts, random_state=rs, stratify=y)\n",
    "\n",
    "print(\"Number of training data: \" + str(len(x_train)))\n",
    "print(\"Number of testing data: \" + str(len(x_test)))\n",
    "\n"
   ]
  },
  {
   "cell_type": "code",
   "execution_count": 7,
   "metadata": {},
   "outputs": [],
   "source": [
    "# for food in ['spaghetti_carbonara', 'pulled_pork_sandwich', 'churros', 'foie_gras', 'cannoli']:\n",
    "#     print(f'This is an example of {food} training image')\n",
    "#     plt.imshow(imOpen(train[food][0]+'.jpg'))\n",
    "#     plt.show()"
   ]
  },
  {
   "cell_type": "markdown",
   "metadata": {},
   "source": [
    "For our KNN classifier, we opted to search through a range of k from 1 to 20 with a step size of 2, resulting in 10 separate models, each with 4 folds."
   ]
  },
  {
   "cell_type": "code",
   "execution_count": 8,
   "metadata": {
    "scrolled": false
   },
   "outputs": [
    {
     "name": "stdout",
     "output_type": "stream",
     "text": [
      "Fitting 4 folds for each of 10 candidates, totalling 40 fits\n",
      "\n",
      "The best params are: {'n_neighbors': 5}\n",
      "KNN Training Acccuracy: 29.94%\n",
      "KNN Testing Accuracy: 47.80%\n"
     ]
    }
   ],
   "source": [
    "knn = KNeighborsClassifier()\n",
    "k_range = list(range(1, 20, 2))\n",
    "param_grid = dict(n_neighbors = k_range)\n",
    "\n",
    "grid = GridSearchCV(knn, param_grid, cv=4, scoring='accuracy', return_train_score=True, verbose=1)\n",
    "grid_search = grid.fit(x_train, y_train)\n",
    "\n",
    "print('\\nThe best params are:', grid_search.best_params_)\n",
    "accuracy = grid_search.best_score_ *100\n",
    "print(\"KNN Training Acccuracy: {:.2f}%\".format(accuracy))\n",
    "\n",
    "knn2 = KNeighborsClassifier(n_neighbors=grid_search.best_params_['n_neighbors'])\n",
    "knn2.fit(x, y)\n",
    "y_test_hat=knn2.predict(x_test)\n",
    "train_pred = knn2.predict(x_train)\n",
    "test_accuracy=np.mean(y_test_hat == y_test)*100 # accuracy_score(y_test,y_test_hat)*100\n",
    "print(\"KNN Testing Accuracy: {:.2f}%\".format(test_accuracy))"
   ]
  },
  {
   "cell_type": "markdown",
   "metadata": {},
   "source": [
    "From this, we can see that our best performing KNN model had 5 `n_neighbors` and achieved an accuracy of around 47%. What's interesting is that the training accuracy is *lower* than the testing accuracy at around 29%. Both of these seem to be at least better than random chance, where we would expect to see roughly 20% accuracy for five categories (1 / # of categories).\n",
    "\n",
    "Plotting the predictions for the training and test sets alongside the actual data may give us an insight into what is going on."
   ]
  },
  {
   "cell_type": "code",
   "execution_count": 9,
   "metadata": {},
   "outputs": [],
   "source": [
    "# results = pd.DataFrame({'test_predicted': y_test_hat, 'actual':y_test})\n",
    "# results2 = pd.DataFrame({'train_predicted': train_pred, 'actual':y_train})\n",
    "# fig, axes = plt.subplots(2, 2, figsize=(10,10), sharey=True, sharex=True)\n",
    "# fig.suptitle('Category Prediction Counts vs. Actual Counts')\n",
    "# sns.countplot(data=results2, y='train_predicted', ax=axes[0,0])\n",
    "# sns.countplot(data=results2, y='actual', ax=axes[0,1])\n",
    "# sns.countplot(data=results, y='test_predicted', ax=axes[1,0]);\n",
    "# sns.countplot(data=results, y='actual', ax=axes[1,1]);"
   ]
  },
  {
   "cell_type": "code",
   "execution_count": 10,
   "metadata": {
    "scrolled": false
   },
   "outputs": [
    {
     "name": "stdout",
     "output_type": "stream",
     "text": [
      "Training Accuracy\n",
      "                       precision    recall  f1-score   support\n",
      "\n",
      "             cannoli       0.59      0.47      0.52       867\n",
      "             churros       0.22      0.74      0.34       213\n",
      "           foie_gras       0.48      0.55      0.51       607\n",
      "pulled_pork_sandwich       0.16      0.77      0.26       143\n",
      " spaghetti_carbonara       0.91      0.38      0.54      1670\n",
      "\n",
      "            accuracy                           0.47      3500\n",
      "           macro avg       0.47      0.58      0.44      3500\n",
      "        weighted avg       0.68      0.47      0.51      3500\n",
      "\n",
      "\n",
      "Testing Accuracy\n",
      "                       precision    recall  f1-score   support\n",
      "\n",
      "             cannoli       0.65      0.46      0.54       422\n",
      "             churros       0.20      0.62      0.30        96\n",
      "           foie_gras       0.47      0.60      0.53       235\n",
      "pulled_pork_sandwich       0.16      0.84      0.27        57\n",
      " spaghetti_carbonara       0.91      0.39      0.55       690\n",
      "\n",
      "            accuracy                           0.48      1500\n",
      "           macro avg       0.48      0.59      0.44      1500\n",
      "        weighted avg       0.69      0.48      0.52      1500\n",
      "\n"
     ]
    },
    {
     "data": {
      "image/png": "[encoded data removed]",
      "text/plain": [
       "<Figure size 864x360 with 5 Axes>"
      ]
     },
     "metadata": {
      "needs_background": "light"
     },
     "output_type": "display_data"
    }
   ],
   "source": [
    "print('Training Accuracy\\n', classification_report(train_pred, y_train))\n",
    "print('\\nTesting Accuracy\\n', classification_report(y_test_hat, y_test))\n",
    "\n",
    "fig, axes = plt.subplots(1, 2, figsize=(12, 5))\n",
    "fig.suptitle('Confusion Matrices for Training and Testing Predictions')\n",
    "\n",
    "cf_matrix = confusion_matrix(y_train, train_pred)\n",
    "sns.heatmap(cf_matrix, fmt=\"d\", annot=True, cmap='coolwarm', ax=axes[0])\n",
    "axes[0].title.set_text('Training CF')\n",
    "\n",
    "cf_matrix = confusion_matrix(y_test, y_test_hat)\n",
    "sns.heatmap(cf_matrix, fmt=\"d\", annot=True, cmap='coolwarm', ax=axes[1])\n",
    "axes[1].title.set_text('Testing CF')\n",
    "\n",
    "fig.add_subplot(111, frame_on=False)\n",
    "plt.tick_params(labelcolor=\"none\", bottom=False, left=False)\n",
    "plt.xlabel(\"\\nActual Values\")\n",
    "plt.ylabel(\"Predicted Values\");"
   ]
  },
  {
   "cell_type": "markdown",
   "metadata": {},
   "source": [
    "<!-- We can see that, in both the training and testing datasets, the KNN model usually fails to predict one or two of the categories, leading to the majority of predictions being one of the three remaining categories. -->\n",
    "\n",
    "We can see that, in both the training and testing datasets, the KNN model usually prefers to predict around three of the five categories, leaving two categories with fewer predictions than the rest. This can be determined by the low precision scores for the `churros`, `foie_gras`, and `pulled_pork_sandwich` categories, indicating a higher rate of false positives predictions.\n",
    "\n",
    "But is this trend the same across different groups of categories? Since we randomly chose 5 categories to train the KNN model on, perhaps we randomly selected a particularly difficult group of categories to train on. We can run many iterations of the above code and see if they have similar relationships between training and testing accuracies."
   ]
  },
  {
   "cell_type": "code",
   "execution_count": 11,
   "metadata": {},
   "outputs": [],
   "source": [
    "def createRandomData():\n",
    "    flat = []\n",
    "    images2 = []\n",
    "    scaleddir = 'food-101/food-101/imagesScaled/'\n",
    "\n",
    "    index = 0\n",
    "    cat_list = random.sample(categories, 5)\n",
    "    for cat in cat_list: \n",
    "        directory = scaleddir + cat    \n",
    "        path = [f for f in listdir(directory) if isfile(join(directory, f))]\n",
    "        index = index + 1\n",
    "        for images in path:\n",
    "            toArr = imread(os.path.join(directory, images))\n",
    "            img_resized = resize(toArr, (50, 50, 3)) \n",
    "            flat.append(img_resized.flatten())\n",
    "            images2.append(cat)\n",
    "\n",
    "    df = pd.DataFrame(np.array(flat))\n",
    "    df['Target'] = np.array(images2)\n",
    "\n",
    "    ts = .30\n",
    "    rs = 45\n",
    "    x = df.iloc[:, :-1]\n",
    "    y = df.iloc[:, -1]\n",
    "    x_train, x_test, y_train, y_test = train_test_split(x, y, test_size=ts, random_state=rs, stratify=y)\n",
    "\n",
    "    return x_train, x_test, y_train, y_test, x, y, cat_list"
   ]
  },
  {
   "cell_type": "code",
   "execution_count": 12,
   "metadata": {},
   "outputs": [],
   "source": [
    "def runKNN(x_train, x_test, y_train, y_test, x, y, cat_list):\n",
    "    \n",
    "    knn = KNeighborsClassifier()\n",
    "    k_range = list(range(1,21, 2))\n",
    "    param_grid = dict(n_neighbors = k_range)\n",
    "\n",
    "    grid = GridSearchCV(knn, param_grid, cv=4, scoring='accuracy')\n",
    "    grid_search = grid.fit(x_train, y_train)\n",
    "\n",
    "    best_param = grid_search.best_params_\n",
    "\n",
    "    knn2 = KNeighborsClassifier(n_neighbors=grid_search.best_params_['n_neighbors'])\n",
    "    knn2.fit(x, y)\n",
    "    y_test_hat = knn2.predict(x_test) \n",
    "    y_train_hat = knn2.predict(x_train)\n",
    "    train_accuracy = np.mean(y_train_hat == y_train)*100\n",
    "    test_accuracy = np.mean(y_test_hat == y_test)*100 \n",
    "    multi_confusion_matrix = multilabel_confusion_matrix(y_test, y_test_hat, labels=cat_list)\n",
    "    full_cfmatrix = confusion_matrix(y_test, y_test_hat)\n",
    "    \n",
    "    return best_param, train_accuracy, test_accuracy, knn2, multi_confusion_matrix, full_cfmatrix"
   ]
  },
  {
   "cell_type": "code",
   "execution_count": 13,
   "metadata": {
    "scrolled": false
   },
   "outputs": [],
   "source": [
    "# # SAVED IN PICKLE\n",
    "# accuracies = []\n",
    "# train_accuracies = []\n",
    "# params = []\n",
    "# cats = []\n",
    "# c_matrices = []\n",
    "# full_cfmatrices = []\n",
    "\n",
    "# for i in range(100):\n",
    "#     print(f'Processing Epoch {i}...')\n",
    "#     x_train, x_test, y_train, y_test, x, y, cat_list = createRandomData()\n",
    "#     cats.append(cat_list)\n",
    "#     best_param, train_accuracy, test_accuracy, knn, confusion_matrices, full_cfmatrix = runKNN(x_train, x_test, y_train, y_test, x, y, cat_list)\n",
    "#     full_cfmatrices.append(full_cfmatrix)\n",
    "#     c_matrices.append(confusion_matrices)\n",
    "#     accuracies.append(test_accuracy)\n",
    "#     train_accuracies.append(train_accuracy)\n",
    "#     params.append(best_param['n_neighbors'])\n",
    "#     print(f'Epoch {i}: {test_accuracy}% Accuracy at {best_param[\"n_neighbors\"]} Neighbors\\n')\n",
    "\n",
    "# data = pd.DataFrame({'train_accuracy': train_accuracies,\n",
    "#                      'test_accuracy':accuracies,\n",
    "#                      'parameters':params,\n",
    "#                      'categories': cats,\n",
    "#                      'confusion matrices': c_matrices,\n",
    "#                      'confusionMatrix': full_cfmatrices\n",
    "#                     })\n",
    "\n",
    "# for i in list(range(5)):\n",
    "#     data[f'category{i}'] = data['categories'].str[i]\n",
    "#     data[f'cf{i}'] = data['confusion matrices'].str[i]\n",
    "\n",
    "# data = data.drop(columns=['categories', 'confusion matrices'], axis=1)\n",
    "# data.to_pickle('knn_trials.pkl')"
   ]
  },
  {
   "cell_type": "markdown",
   "metadata": {},
   "source": [
    "After running the above code, we pickle the dataframe so we do not have to rerun the time-consuming test. Below is the dataframe containing the `train_accuracy`, `test_accuracy`, 5 categories and their confusion matrices, the overall `confusionMatrix`, as well as the optimal number of K used to train on those 5 specific categories. "
   ]
  },
  {
   "cell_type": "code",
   "execution_count": 14,
   "metadata": {},
   "outputs": [
    {
     "data": {
      "text/html": [
       "<div>\n",
       "<style scoped>\n",
       "    .dataframe tbody tr th:only-of-type {\n",
       "        vertical-align: middle;\n",
       "    }\n",
       "\n",
       "    .dataframe tbody tr th {\n",
       "        vertical-align: top;\n",
       "    }\n",
       "\n",
       "    .dataframe thead th {\n",
       "        text-align: right;\n",
       "    }\n",
       "</style>\n",
       "<table border=\"1\" class=\"dataframe\">\n",
       "  <thead>\n",
       "    <tr style=\"text-align: right;\">\n",
       "      <th></th>\n",
       "      <th>train_accuracy</th>\n",
       "      <th>test_accuracy</th>\n",
       "      <th>parameters</th>\n",
       "      <th>confusionMatrix</th>\n",
       "      <th>category0</th>\n",
       "      <th>cf0</th>\n",
       "      <th>category1</th>\n",
       "      <th>cf1</th>\n",
       "      <th>category2</th>\n",
       "      <th>cf2</th>\n",
       "      <th>category3</th>\n",
       "      <th>cf3</th>\n",
       "      <th>category4</th>\n",
       "      <th>cf4</th>\n",
       "    </tr>\n",
       "  </thead>\n",
       "  <tbody>\n",
       "    <tr>\n",
       "      <th>0</th>\n",
       "      <td>37.000000</td>\n",
       "      <td>37.400000</td>\n",
       "      <td>11</td>\n",
       "      <td>[[223, 46, 14, 2, 15], [101, 146, 41, 3, 9], [...</td>\n",
       "      <td>apple_pie</td>\n",
       "      <td>[[646, 554], [77, 223]]</td>\n",
       "      <td>crab_cakes</td>\n",
       "      <td>[[1093, 107], [198, 102]]</td>\n",
       "      <td>pancakes</td>\n",
       "      <td>[[1125, 75], [228, 72]]</td>\n",
       "      <td>cheesecake</td>\n",
       "      <td>[[1008, 192], [154, 146]]</td>\n",
       "      <td>greek_salad</td>\n",
       "      <td>[[1189, 11], [282, 18]]</td>\n",
       "    </tr>\n",
       "    <tr>\n",
       "      <th>1</th>\n",
       "      <td>38.028571</td>\n",
       "      <td>41.866667</td>\n",
       "      <td>19</td>\n",
       "      <td>[[121, 121, 6, 15, 37], [5, 249, 11, 13, 22], ...</td>\n",
       "      <td>falafel</td>\n",
       "      <td>[[1157, 43], [241, 59]]</td>\n",
       "      <td>tacos</td>\n",
       "      <td>[[1081, 119], [189, 111]]</td>\n",
       "      <td>bread_pudding</td>\n",
       "      <td>[[571, 629], [51, 249]]</td>\n",
       "      <td>prime_rib</td>\n",
       "      <td>[[1147, 53], [212, 88]]</td>\n",
       "      <td>bibimbap</td>\n",
       "      <td>[[1172, 28], [179, 121]]</td>\n",
       "    </tr>\n",
       "    <tr>\n",
       "      <th>2</th>\n",
       "      <td>100.000000</td>\n",
       "      <td>100.000000</td>\n",
       "      <td>1</td>\n",
       "      <td>[[300, 0, 0, 0, 0], [0, 300, 0, 0, 0], [0, 0, ...</td>\n",
       "      <td>paella</td>\n",
       "      <td>[[1200, 0], [0, 300]]</td>\n",
       "      <td>ravioli</td>\n",
       "      <td>[[1200, 0], [0, 300]]</td>\n",
       "      <td>garlic_bread</td>\n",
       "      <td>[[1200, 0], [0, 300]]</td>\n",
       "      <td>french_toast</td>\n",
       "      <td>[[1200, 0], [0, 300]]</td>\n",
       "      <td>takoyaki</td>\n",
       "      <td>[[1200, 0], [0, 300]]</td>\n",
       "    </tr>\n",
       "    <tr>\n",
       "      <th>3</th>\n",
       "      <td>42.771429</td>\n",
       "      <td>42.666667</td>\n",
       "      <td>15</td>\n",
       "      <td>[[139, 11, 115, 33, 2], [56, 73, 115, 52, 4], ...</td>\n",
       "      <td>peking_duck</td>\n",
       "      <td>[[1184, 16], [232, 68]]</td>\n",
       "      <td>ice_cream</td>\n",
       "      <td>[[1060, 140], [156, 144]]</td>\n",
       "      <td>hot_dog</td>\n",
       "      <td>[[1152, 48], [227, 73]]</td>\n",
       "      <td>caesar_salad</td>\n",
       "      <td>[[975, 225], [161, 139]]</td>\n",
       "      <td>hummus</td>\n",
       "      <td>[[769, 431], [84, 216]]</td>\n",
       "    </tr>\n",
       "    <tr>\n",
       "      <th>4</th>\n",
       "      <td>41.514286</td>\n",
       "      <td>42.266667</td>\n",
       "      <td>13</td>\n",
       "      <td>[[56, 126, 29, 83, 6], [10, 217, 48, 25, 0], [...</td>\n",
       "      <td>clam_chowder</td>\n",
       "      <td>[[779, 421], [83, 217]]</td>\n",
       "      <td>dumplings</td>\n",
       "      <td>[[1101, 99], [164, 136]]</td>\n",
       "      <td>samosa</td>\n",
       "      <td>[[1192, 8], [275, 25]]</td>\n",
       "      <td>ravioli</td>\n",
       "      <td>[[904, 296], [100, 200]]</td>\n",
       "      <td>apple_pie</td>\n",
       "      <td>[[1158, 42], [244, 56]]</td>\n",
       "    </tr>\n",
       "  </tbody>\n",
       "</table>\n",
       "</div>"
      ],
      "text/plain": [
       "   train_accuracy  test_accuracy  parameters  \\\n",
       "0       37.000000      37.400000          11   \n",
       "1       38.028571      41.866667          19   \n",
       "2      100.000000     100.000000           1   \n",
       "3       42.771429      42.666667          15   \n",
       "4       41.514286      42.266667          13   \n",
       "\n",
       "                                     confusionMatrix     category0  \\\n",
       "0  [[223, 46, 14, 2, 15], [101, 146, 41, 3, 9], [...     apple_pie   \n",
       "1  [[121, 121, 6, 15, 37], [5, 249, 11, 13, 22], ...       falafel   \n",
       "2  [[300, 0, 0, 0, 0], [0, 300, 0, 0, 0], [0, 0, ...        paella   \n",
       "3  [[139, 11, 115, 33, 2], [56, 73, 115, 52, 4], ...   peking_duck   \n",
       "4  [[56, 126, 29, 83, 6], [10, 217, 48, 25, 0], [...  clam_chowder   \n",
       "\n",
       "                       cf0   category1                        cf1  \\\n",
       "0  [[646, 554], [77, 223]]  crab_cakes  [[1093, 107], [198, 102]]   \n",
       "1  [[1157, 43], [241, 59]]       tacos  [[1081, 119], [189, 111]]   \n",
       "2    [[1200, 0], [0, 300]]     ravioli      [[1200, 0], [0, 300]]   \n",
       "3  [[1184, 16], [232, 68]]   ice_cream  [[1060, 140], [156, 144]]   \n",
       "4  [[779, 421], [83, 217]]   dumplings   [[1101, 99], [164, 136]]   \n",
       "\n",
       "       category2                      cf2     category3  \\\n",
       "0       pancakes  [[1125, 75], [228, 72]]    cheesecake   \n",
       "1  bread_pudding  [[571, 629], [51, 249]]     prime_rib   \n",
       "2   garlic_bread    [[1200, 0], [0, 300]]  french_toast   \n",
       "3        hot_dog  [[1152, 48], [227, 73]]  caesar_salad   \n",
       "4         samosa   [[1192, 8], [275, 25]]       ravioli   \n",
       "\n",
       "                         cf3    category4                       cf4  \n",
       "0  [[1008, 192], [154, 146]]  greek_salad   [[1189, 11], [282, 18]]  \n",
       "1    [[1147, 53], [212, 88]]     bibimbap  [[1172, 28], [179, 121]]  \n",
       "2      [[1200, 0], [0, 300]]     takoyaki     [[1200, 0], [0, 300]]  \n",
       "3   [[975, 225], [161, 139]]       hummus   [[769, 431], [84, 216]]  \n",
       "4   [[904, 296], [100, 200]]    apple_pie   [[1158, 42], [244, 56]]  "
      ]
     },
     "execution_count": 14,
     "metadata": {},
     "output_type": "execute_result"
    }
   ],
   "source": [
    "data = pd.read_pickle('knn_trials.pkl')\n",
    "data.head()"
   ]
  },
  {
   "cell_type": "code",
   "execution_count": 15,
   "metadata": {},
   "outputs": [
    {
     "data": {
      "image/png": "[encoded data removed]",
      "text/plain": [
       "<Figure size 720x720 with 4 Axes>"
      ]
     },
     "metadata": {
      "needs_background": "light"
     },
     "output_type": "display_data"
    }
   ],
   "source": [
    "fig, axes = plt.subplots(2, 2, figsize=(10, 10))\n",
    "sns.histplot(data=data, x='parameters', bins=range(1,22,2), ax=axes[0,0]).set(\n",
    "    title = 'Frequency of K-NN Hyperparameter',\n",
    "    xlabel = 'Hyperparameter (K)',\n",
    "    ylabel = 'Count');\n",
    "sns.scatterplot(data=data, x='train_accuracy', y='test_accuracy', alpha=0.5, ax=axes[1,0]).set(\n",
    "    title = 'Train Accuracy versus Test Accuracy',\n",
    "    xlabel = 'Train Accuracy',\n",
    "    ylabel = 'Test Accuracy');\n",
    "sns.regplot(x=\"parameters\", y=\"test_accuracy\", data=data, x_jitter=0.1, ax=axes[0,1]).set(\n",
    "    title = 'Test Accuracy versus K-NN Hyperparameter',\n",
    "    xlabel = 'Hyperparameter (K)',\n",
    "    ylabel = 'Test Accuracy');\n",
    "\n",
    "plt.hist(data['train_accuracy'], bins=35, alpha=0.5, label=\"Training Accuracy\")\n",
    "plt.hist(data['test_accuracy'], bins=35, alpha=0.5, label=\"Testing Accuracy\")\n",
    "plt.xlabel(\"Accuracy\")\n",
    "plt.ylabel(\"Count\")\n",
    "plt.title(\"Distribution of Training versus Testing Accuracies\")\n",
    "plt.legend(loc='upper right');"
   ]
  },
  {
   "cell_type": "code",
   "execution_count": 16,
   "metadata": {},
   "outputs": [
    {
     "data": {
      "text/plain": [
       "train_accuracy    47.047714\n",
       "test_accuracy     47.000000\n",
       "parameters        13.660000\n",
       "dtype: float64"
      ]
     },
     "metadata": {},
     "output_type": "display_data"
    },
    {
     "data": {
      "text/plain": [
       "train_accuracy    42.728571\n",
       "test_accuracy     42.600000\n",
       "parameters        17.000000\n",
       "dtype: float64"
      ]
     },
     "metadata": {},
     "output_type": "display_data"
    }
   ],
   "source": [
    "display(data.mean(), data.median())"
   ]
  },
  {
   "cell_type": "markdown",
   "metadata": {},
   "source": [
    "From 100 iterations of random testing, we can see that the average testing accuracy is ~47% with an average k value of 13-14. We can also see that, on average, training accuracy and testing accuracy has a relatively linear relationship, indicating that the difference between our initial testing and training accuracies may be due to random chance.\n",
    "\n",
    "Interestingly enough, some of these random iterations concluded that the best fit model was a k of 1, resulting in both 100% training and testing accuracy. Looking instead at the median of this data as it is more resiliant against outliers results in a testing accuracy of ~42.6% with a parameter of 17."
   ]
  },
  {
   "cell_type": "code",
   "execution_count": 17,
   "metadata": {},
   "outputs": [
    {
     "name": "stdout",
     "output_type": "stream",
     "text": [
      "                      precision    recall  f1-score   support\n",
      "\n",
      "             cannoli       0.65      0.46      0.54       422\n",
      "             churros       0.20      0.62      0.30        96\n",
      "           foie_gras       0.47      0.60      0.53       235\n",
      "pulled_pork_sandwich       0.16      0.84      0.27        57\n",
      " spaghetti_carbonara       0.91      0.39      0.55       690\n",
      "\n",
      "            accuracy                           0.48      1500\n",
      "           macro avg       0.48      0.59      0.44      1500\n",
      "        weighted avg       0.69      0.48      0.52      1500\n",
      "\n"
     ]
    }
   ],
   "source": [
    "print(classification_report(y_test_hat, y_test))"
   ]
  },
  {
   "cell_type": "markdown",
   "metadata": {},
   "source": [
    "Looking back at our initial KNN model and our five randomly chosen categories, we can conclude that our best food categories were `cannoli` and `spaghetti_carbonara`. From our results of multiple iterations of KNN trained on different groups of food categories, we could see that, when introduced to unseen training data, on average, the models saw relatively similar training and testing accuracies. When it comes to image data, KNN seems to perform better when classifying fewer groups. Though our models still performed relatively well when training on images with large variaton between individual images.\n",
    "\n",
    "Though our model performed relatively well, it is not ideal for real world use due to the extremely high dimensionality of image data as well as the runtime of testing newly introduced data against all other datapoints. The low precision of many of our classes also leads us to believe that, when classifying images into multiple categories, KNN tends to overfit to one particular class, leading to more predictions for that particular class and a higher false positive rate."
   ]
  },
  {
   "cell_type": "code",
   "execution_count": 18,
   "metadata": {
    "scrolled": false
   },
   "outputs": [],
   "source": [
    "def printConfusion(df, index):\n",
    "    fig, axes = plt.subplots(2, 3)\n",
    "    fig.suptitle('Confusion Matrices for Overall and Individual Categories')\n",
    "    axes[0,0].title.set_text(df['category0'].iloc[index])\n",
    "    sns.heatmap(df['cf0'].iloc[index], fmt=\"d\", annot=True, ax=axes[0, 0], cmap='coolwarm')\n",
    "    axes[0,1].title.set_text(df['category1'].iloc[index])\n",
    "    sns.heatmap(df['cf1'].iloc[index], fmt=\"d\", annot=True, ax=axes[0, 1], cmap='coolwarm')\n",
    "    axes[0,2].title.set_text(df['category2'].iloc[index])\n",
    "    sns.heatmap(df['cf2'].iloc[index], fmt=\"d\", annot=True, ax=axes[0, 2], cmap='coolwarm')\n",
    "    axes[1,0].title.set_text(df['category3'].iloc[index])\n",
    "    sns.heatmap(df['cf3'].iloc[index], fmt=\"d\", annot=True, ax=axes[1, 0], cmap='coolwarm')\n",
    "    axes[1,1].title.set_text(df['category4'].iloc[index])\n",
    "    sns.heatmap(df['cf4'].iloc[index], fmt=\"d\", annot=True, ax=axes[1, 1], cmap='coolwarm')\n",
    "    axes[1,2].title.set_text('Overall Confusion Matrix')\n",
    "    sns.heatmap(df['confusionMatrix'].iloc[index], fmt=\"d\", annot=True, ax=axes[1,2], cmap='coolwarm')\n",
    "    fig.set_figheight(9)\n",
    "    fig.set_figwidth(15)\n",
    "    \n",
    "    fig.add_subplot(111, frame_on=False)\n",
    "    plt.tick_params(labelcolor=\"none\", bottom=False, left=False)\n",
    "    plt.xlabel(\"\\nActual Values\")\n",
    "    plt.ylabel(\"Predicted Values\")"
   ]
  },
  {
   "cell_type": "code",
   "execution_count": 19,
   "metadata": {},
   "outputs": [],
   "source": [
    "# printConfusion(data, 99)"
   ]
  },
  {
   "cell_type": "code",
   "execution_count": 20,
   "metadata": {},
   "outputs": [],
   "source": [
    "from __future__ import print_function\n",
    "from ipywidgets import interact, interactive, fixed, interact_manual\n",
    "import ipywidgets as widgets"
   ]
  },
  {
   "cell_type": "code",
   "execution_count": 21,
   "metadata": {},
   "outputs": [
    {
     "data": {
      "application/vnd.jupyter.widget-view+json": {
       "model_id": "84ee0b71289e43e3a19d1baf410c8b23",
       "version_major": 2,
       "version_minor": 0
      },
      "text/plain": [
       "interactive(children=(Dropdown(description='index', options=(0, 1, 2, 3, 4, 5, 6, 7, 8, 9, 10, 11, 12, 13, 14,…"
      ]
     },
     "metadata": {},
     "output_type": "display_data"
    }
   ],
   "source": [
    "ran = widgets.IntSlider(min=0, max=99, step=1, value=0)\n",
    "interact(printConfusion, df=fixed(data), index=list(range(100)));"
   ]
  },
  {
   "cell_type": "code",
   "execution_count": null,
   "metadata": {},
   "outputs": [],
   "source": []
  }
 ],
 "metadata": {
  "interpreter": {
   "hash": "43b328d8ee08ef5c8dd037e214af0d89062a936209ea5ccf4632c478dc85c150"
  },
  "kernelspec": {
   "display_name": "Python 3",
   "language": "python",
   "name": "python3"
  },
  "language_info": {
   "codemirror_mode": {
    "name": "ipython",
    "version": 3
   },
   "file_extension": ".py",
   "mimetype": "text/x-python",
   "name": "python",
   "nbconvert_exporter": "python",
   "pygments_lexer": "ipython3",
   "version": "3.8.8"
  }
 },
 "nbformat": 4,
 "nbformat_minor": 2
}
