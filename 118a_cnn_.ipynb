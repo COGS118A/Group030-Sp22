{
 "cells": [
  {
   "cell_type": "code",
   "execution_count": 1,
   "metadata": {},
   "outputs": [],
   "source": [
    "import os\n",
    "import matplotlib.pyplot as plt\n",
    "import matplotlib.image as mpimg\n",
    "import random\n",
    "import json\n",
    "import numpy as np\n",
    "import cv2\n",
    "\n",
    "\n",
    "#import pandas as pd\n",
    "from sklearn import svm\n",
    "from sklearn.model_selection import GridSearchCV\n",
    "#from skimage.io import imread\n",
    "from sklearn import preprocessing\n",
    "from skimage.io import imread\n",
    "from skimage.transform import resize\n",
    "\n",
    "from sklearn.model_selection import train_test_split\n",
    "from sklearn.metrics import classification_report, accuracy_score, confusion_matrix\n",
    "import pickle"
   ]
  },
  {
   "cell_type": "code",
   "execution_count": 2,
   "metadata": {},
   "outputs": [],
   "source": [
    "import tensorflow as tf\n",
    "from tensorflow import keras\n",
    "from tensorflow.keras import layers, models"
   ]
  },
  {
   "cell_type": "code",
   "execution_count": 4,
   "metadata": {},
   "outputs": [],
   "source": [
    "categories = open('C:/food-101/food-101/meta/classes.txt').read().split()\n",
    "cats = random.sample(categories,5)\n",
    "dir = \"C:/food-101/food-101/images/\"\n",
    "\n",
    "randomSampleCount = 1000\n",
    "\n",
    "random.seed(255)\n",
    "sequence = [i for i in range(1000)]\n",
    "randList = random.sample(sequence, randomSampleCount)\n",
    "\n",
    "randomSampled = []\n",
    "scaleddir = 'C:/food-101/food-101/imagesScaled/'\n",
    "for cat in categories:\n",
    "    directory = scaleddir + cat\n",
    "    path = os.listdir(directory)\n",
    "    index = 0\n",
    "    imagesToBeSampled = []\n",
    "    for images in path:\n",
    "        index = index + 1\n",
    "        if(index in randList):\n",
    "            imagesToBeSampled.append(images)\n",
    "    randomSampled.append(imagesToBeSampled)\n",
    "\n",
    "\n",
    "### CNN ###\n",
    "from sklearn.preprocessing import MinMaxScaler\n",
    "\n",
    "scaled_X = []\n",
    "images2 = []\n",
    "\n",
    "scaleddir = 'C:/food-101/food-101/imagesScaled/'\n",
    "\n",
    "index = 0\n",
    "for cat in random.sample(categories, 5):\n",
    "    directory = scaleddir + cat    \n",
    "    path = [f for f in os.listdir(directory) if os.path.isfile(os.path.join(directory, f))]\n",
    "    index = index + 1\n",
    "    for images in path:\n",
    "        toArr = imread(os.path.join(directory, images))\n",
    "        img_resized = resize(toArr, (100, 100,3))\n",
    "     \n",
    "        scaled_X.append(img_resized)\n",
    "        images2.append(categories.index(cat))\n",
    "\n",
    "scaled_X = np.array(scaled_X)\n",
    "\n",
    "#encode image labels \n",
    "le = preprocessing.LabelEncoder()\n",
    "le.fit(images2)\n",
    "\n",
    "#train/test split\n",
    "rs = 45\n",
    "x_train, x_test, y_train, y_test = train_test_split(\n",
    "    scaled_X, \n",
    "    le.transform(images2), \n",
    "    test_size=0.3, \n",
    "    random_state=rs, \n",
    "    stratify=images2)"
   ]
  },
  {
   "cell_type": "markdown",
   "metadata": {},
   "source": [
    "CNN Model Selection\n"
   ]
  },
  {
   "cell_type": "code",
   "execution_count": 5,
   "metadata": {},
   "outputs": [
    {
     "name": "stdout",
     "output_type": "stream",
     "text": [
      "Epoch 1/20\n",
      "110/110 [==============================] - 21s 189ms/step - loss: 1.5669 - accuracy: 0.2746 - val_loss: 1.4496 - val_accuracy: 0.3733\n",
      "Epoch 2/20\n",
      "110/110 [==============================] - 19s 177ms/step - loss: 1.4457 - accuracy: 0.3826 - val_loss: 1.3763 - val_accuracy: 0.4247\n",
      "Epoch 3/20\n",
      "110/110 [==============================] - 17s 155ms/step - loss: 1.3493 - accuracy: 0.4294 - val_loss: 1.3253 - val_accuracy: 0.4447\n",
      "Epoch 4/20\n",
      "110/110 [==============================] - 17s 159ms/step - loss: 1.2139 - accuracy: 0.5157 - val_loss: 1.2363 - val_accuracy: 0.5160\n",
      "Epoch 5/20\n",
      "110/110 [==============================] - 16s 147ms/step - loss: 1.1217 - accuracy: 0.5609 - val_loss: 1.0973 - val_accuracy: 0.5667\n",
      "Epoch 6/20\n",
      "110/110 [==============================] - 16s 150ms/step - loss: 1.0195 - accuracy: 0.5974 - val_loss: 1.1367 - val_accuracy: 0.5553\n",
      "Epoch 7/20\n",
      "110/110 [==============================] - 16s 150ms/step - loss: 0.9626 - accuracy: 0.6217 - val_loss: 1.0346 - val_accuracy: 0.6087\n",
      "Epoch 8/20\n",
      "110/110 [==============================] - 17s 150ms/step - loss: 0.8814 - accuracy: 0.6546 - val_loss: 1.1645 - val_accuracy: 0.5567\n",
      "Epoch 9/20\n",
      "110/110 [==============================] - 16s 147ms/step - loss: 0.8158 - accuracy: 0.6837 - val_loss: 1.0384 - val_accuracy: 0.6113\n",
      "Epoch 10/20\n",
      "110/110 [==============================] - 16s 149ms/step - loss: 0.7271 - accuracy: 0.7223 - val_loss: 1.0756 - val_accuracy: 0.6127\n",
      "Epoch 11/20\n",
      "110/110 [==============================] - 16s 146ms/step - loss: 0.6829 - accuracy: 0.7406 - val_loss: 1.0396 - val_accuracy: 0.6280\n",
      "Epoch 12/20\n",
      "110/110 [==============================] - 16s 147ms/step - loss: 0.5863 - accuracy: 0.7794 - val_loss: 1.1085 - val_accuracy: 0.6347\n",
      "Epoch 13/20\n",
      "110/110 [==============================] - 17s 154ms/step - loss: 0.5338 - accuracy: 0.7983 - val_loss: 1.1858 - val_accuracy: 0.6260\n",
      "Epoch 14/20\n",
      "110/110 [==============================] - 16s 150ms/step - loss: 0.4601 - accuracy: 0.8320 - val_loss: 1.2806 - val_accuracy: 0.6100\n",
      "Epoch 15/20\n",
      "110/110 [==============================] - 17s 152ms/step - loss: 0.3691 - accuracy: 0.8594 - val_loss: 1.3492 - val_accuracy: 0.6340\n",
      "Epoch 16/20\n",
      "110/110 [==============================] - 17s 154ms/step - loss: 0.3121 - accuracy: 0.8926 - val_loss: 1.4285 - val_accuracy: 0.6093\n",
      "Epoch 17/20\n",
      "110/110 [==============================] - 17s 151ms/step - loss: 0.2589 - accuracy: 0.9080 - val_loss: 1.6005 - val_accuracy: 0.6387\n",
      "Epoch 18/20\n",
      "110/110 [==============================] - 16s 145ms/step - loss: 0.1857 - accuracy: 0.9329 - val_loss: 1.8038 - val_accuracy: 0.6140\n",
      "Epoch 19/20\n",
      "110/110 [==============================] - 16s 149ms/step - loss: 0.1642 - accuracy: 0.9423 - val_loss: 2.0916 - val_accuracy: 0.5980\n",
      "Epoch 20/20\n",
      "110/110 [==============================] - 17s 151ms/step - loss: 0.2358 - accuracy: 0.9183 - val_loss: 1.9664 - val_accuracy: 0.6200\n"
     ]
    },
    {
     "data": {
      "image/png": "[encoded data removed]",
      "text/plain": [
       "<Figure size 432x288 with 1 Axes>"
      ]
     },
     "metadata": {
      "needs_background": "light"
     },
     "output_type": "display_data"
    },
    {
     "name": "stdout",
     "output_type": "stream",
     "text": [
      "Maximum Validation Accuracy =  0.6386666893959045\n"
     ]
    }
   ],
   "source": [
    "# MODEL 1\n",
    "# 4 LAYERS\n",
    "#Try different batch sizes\n",
    "model_cnn = models.Sequential(\n",
    "    [\n",
    "        layers.Conv2D(32, (3,3), activation = 'relu', input_shape = (100,100,3)), #32 output channels, (3,3) convolution window\n",
    "        layers.MaxPooling2D((2,2)),\n",
    "        layers.Conv2D(64,(3,3), activation = 'relu'), #64 output channels, (3,3) convolution window\n",
    "        layers.MaxPooling2D((2,2)),\n",
    "        layers.Conv2D(64,(3,3), activation = 'relu'), #64 output channels, (3,3) convolution window\n",
    "        layers.MaxPooling2D((2,2)),\n",
    "        layers.Conv2D(64,(3,3), activation = 'relu'), #64 output channels, (3,3) convolution window\n",
    "        layers.MaxPooling2D((2,2)),\n",
    "        layers.Conv2D(64,(3,3), activation = 'relu'), #64 output channels, (3,3) convolution window\n",
    "        \n",
    "        layers.Flatten(),\n",
    "        layers.Dense(64, activation = 'relu'),\n",
    "        layers.Dense(5),\n",
    "\n",
    "        \n",
    "    ])\n",
    "#model_cnn.summary()\n",
    "\n",
    "## Convert data to tf tensors and train \n",
    "\n",
    "x_test_tensor = tf.convert_to_tensor(x_test)\n",
    "x_train_tensor = tf.convert_to_tensor(x_train)\n",
    "\n",
    "\n",
    "y_test_tensor = tf.convert_to_tensor(y_test)\n",
    "y_train_tensor = tf.convert_to_tensor(y_train)\n",
    "\n",
    "model_cnn.compile(optimizer='adam',\n",
    "              loss=tf.keras.losses.SparseCategoricalCrossentropy(from_logits=True), #SCC is optimal for multiclass\n",
    "              metrics=['accuracy'])\n",
    "\n",
    "history = model_cnn.fit(x_train_tensor, y_train_tensor, epochs=20, \n",
    "                    validation_data=(x_test_tensor, y_test_tensor))\n",
    "\n",
    "#Validation Curves\n",
    "\n",
    "plt.plot(history.history['accuracy'])\n",
    "plt.plot(history.history['val_accuracy'])\n",
    "plt.title('model accuracy')\n",
    "plt.ylabel('Accuracy')\n",
    "plt.xlabel('Epoch')\n",
    "plt.legend(['training', 'validation'], loc='upper left')\n",
    "plt.show()\n",
    "\n",
    "print('Maximum Validation Accuracy = ', max(history.history['val_accuracy']))"
   ]
  },
  {
   "cell_type": "code",
   "execution_count": 7,
   "metadata": {},
   "outputs": [
    {
     "name": "stdout",
     "output_type": "stream",
     "text": [
      "Epoch 1/20\n",
      "110/110 [==============================] - 17s 154ms/step - loss: 1.4877 - accuracy: 0.3423 - val_loss: 1.2922 - val_accuracy: 0.4740\n",
      "Epoch 2/20\n",
      "110/110 [==============================] - 17s 159ms/step - loss: 1.1869 - accuracy: 0.5189 - val_loss: 1.1235 - val_accuracy: 0.5767\n",
      "Epoch 3/20\n",
      "110/110 [==============================] - 20s 184ms/step - loss: 0.9857 - accuracy: 0.6151 - val_loss: 1.0699 - val_accuracy: 0.6000\n",
      "Epoch 4/20\n",
      "110/110 [==============================] - 20s 179ms/step - loss: 0.8009 - accuracy: 0.7063 - val_loss: 1.1157 - val_accuracy: 0.5760\n",
      "Epoch 5/20\n",
      "110/110 [==============================] - 19s 172ms/step - loss: 0.6156 - accuracy: 0.7703 - val_loss: 1.2797 - val_accuracy: 0.5900\n",
      "Epoch 6/20\n",
      "110/110 [==============================] - 20s 182ms/step - loss: 0.4008 - accuracy: 0.8531 - val_loss: 1.2402 - val_accuracy: 0.6080\n",
      "Epoch 7/20\n",
      "110/110 [==============================] - 21s 190ms/step - loss: 0.2263 - accuracy: 0.9200 - val_loss: 1.6759 - val_accuracy: 0.5847\n",
      "Epoch 8/20\n",
      "110/110 [==============================] - 20s 178ms/step - loss: 0.1469 - accuracy: 0.9594 - val_loss: 1.9829 - val_accuracy: 0.5800\n",
      "Epoch 9/20\n",
      "110/110 [==============================] - 18s 160ms/step - loss: 0.0688 - accuracy: 0.9780 - val_loss: 2.3168 - val_accuracy: 0.5860\n",
      "Epoch 10/20\n",
      "110/110 [==============================] - 18s 167ms/step - loss: 0.0669 - accuracy: 0.9820 - val_loss: 2.5238 - val_accuracy: 0.5693\n",
      "Epoch 11/20\n",
      "110/110 [==============================] - 19s 169ms/step - loss: 0.0274 - accuracy: 0.9934 - val_loss: 2.6827 - val_accuracy: 0.5753\n",
      "Epoch 12/20\n",
      "110/110 [==============================] - 20s 182ms/step - loss: 0.0106 - accuracy: 0.9977 - val_loss: 2.9677 - val_accuracy: 0.5813\n",
      "Epoch 13/20\n",
      "110/110 [==============================] - 19s 172ms/step - loss: 0.0051 - accuracy: 0.9986 - val_loss: 3.0695 - val_accuracy: 0.5687\n",
      "Epoch 14/20\n",
      "110/110 [==============================] - 19s 174ms/step - loss: 0.0018 - accuracy: 0.9997 - val_loss: 3.4336 - val_accuracy: 0.5833\n",
      "Epoch 15/20\n",
      "110/110 [==============================] - 19s 177ms/step - loss: 0.0292 - accuracy: 0.9911 - val_loss: 3.1541 - val_accuracy: 0.5787\n",
      "Epoch 16/20\n",
      "110/110 [==============================] - 19s 172ms/step - loss: 0.0374 - accuracy: 0.9897 - val_loss: 3.1764 - val_accuracy: 0.5640\n",
      "Epoch 17/20\n",
      "110/110 [==============================] - 18s 160ms/step - loss: 0.0707 - accuracy: 0.9783 - val_loss: 2.7004 - val_accuracy: 0.5820\n",
      "Epoch 18/20\n",
      "110/110 [==============================] - 18s 159ms/step - loss: 0.0349 - accuracy: 0.9903 - val_loss: 3.0133 - val_accuracy: 0.5693\n",
      "Epoch 19/20\n",
      "110/110 [==============================] - 19s 170ms/step - loss: 0.0369 - accuracy: 0.9877 - val_loss: 3.2523 - val_accuracy: 0.5560\n",
      "Epoch 20/20\n",
      "110/110 [==============================] - 18s 166ms/step - loss: 0.0684 - accuracy: 0.9797 - val_loss: 2.9511 - val_accuracy: 0.5533\n"
     ]
    },
    {
     "data": {
      "image/png": "[encoded data removed]",
      "text/plain": [
       "<Figure size 432x288 with 1 Axes>"
      ]
     },
     "metadata": {
      "needs_background": "light"
     },
     "output_type": "display_data"
    },
    {
     "name": "stdout",
     "output_type": "stream",
     "text": [
      "Maximum Validation Accuracy =  0.6079999804496765\n"
     ]
    }
   ],
   "source": [
    "# MODEL 2 \n",
    "# 2 LAYERS\n",
    "\n",
    "model_cnn = models.Sequential(\n",
    "    [\n",
    "        layers.Conv2D(32, (3,3), activation = 'relu', input_shape = (100,100,3)), #32 output channels, (3,3) convolution window\n",
    "        layers.MaxPooling2D((2,2)),\n",
    "        layers.Conv2D(64,(3,3), activation = 'relu'), #64 output channels, (3,3) convolution window\n",
    "        layers.MaxPooling2D((2,2)),\n",
    "        layers.Conv2D(64,(3,3), activation = 'relu'), #64 output channels, (3,3) convolution window\n",
    "        \n",
    "        layers.Flatten(),\n",
    "        layers.Dense(64, activation = 'relu'),\n",
    "        layers.Dense(5),\n",
    "\n",
    "        \n",
    "    ])\n",
    "\n",
    "\n",
    "\n",
    "model_cnn.compile(optimizer='adam',\n",
    "              loss=tf.keras.losses.SparseCategoricalCrossentropy(from_logits=True),\n",
    "              metrics=['accuracy'])\n",
    "\n",
    "history = model_cnn.fit(x_train_tensor, y_train_tensor, epochs=20, \n",
    "                    validation_data=(x_test_tensor, y_test_tensor))\n",
    "\n",
    "#Validation Curves\n",
    "\n",
    "plt.plot(history.history['accuracy'])\n",
    "plt.plot(history.history['val_accuracy'])\n",
    "plt.title('model accuracy')\n",
    "plt.ylabel('accuracy')\n",
    "plt.xlabel('Epoch')\n",
    "plt.legend(['training', 'validation'], loc='upper left')\n",
    "plt.show()\n",
    "\n",
    "print('Maximum Validation Accuracy = ', max(history.history['val_accuracy']))"
   ]
  },
  {
   "cell_type": "code",
   "execution_count": 9,
   "metadata": {},
   "outputs": [
    {
     "name": "stdout",
     "output_type": "stream",
     "text": [
      "Epoch 1/20\n",
      "110/110 [==============================] - 44s 393ms/step - loss: 1.5087 - accuracy: 0.3414 - val_loss: 1.2890 - val_accuracy: 0.4760\n",
      "Epoch 2/20\n",
      "110/110 [==============================] - 41s 372ms/step - loss: 1.2500 - accuracy: 0.4929 - val_loss: 1.1952 - val_accuracy: 0.5327\n",
      "Epoch 3/20\n",
      "110/110 [==============================] - 38s 345ms/step - loss: 1.1209 - accuracy: 0.5589 - val_loss: 1.1703 - val_accuracy: 0.5420\n",
      "Epoch 4/20\n",
      "110/110 [==============================] - 38s 347ms/step - loss: 0.9953 - accuracy: 0.6157 - val_loss: 1.0957 - val_accuracy: 0.5853\n",
      "Epoch 5/20\n",
      "110/110 [==============================] - 42s 384ms/step - loss: 0.8380 - accuracy: 0.6800 - val_loss: 1.1182 - val_accuracy: 0.5973\n",
      "Epoch 6/20\n",
      "110/110 [==============================] - 41s 375ms/step - loss: 0.6839 - accuracy: 0.7529 - val_loss: 1.1551 - val_accuracy: 0.5920\n",
      "Epoch 7/20\n",
      "110/110 [==============================] - 43s 391ms/step - loss: 0.5230 - accuracy: 0.8020 - val_loss: 1.1700 - val_accuracy: 0.6140\n",
      "Epoch 8/20\n",
      "110/110 [==============================] - 41s 377ms/step - loss: 0.3504 - accuracy: 0.8731 - val_loss: 1.4253 - val_accuracy: 0.5800\n",
      "Epoch 9/20\n",
      "110/110 [==============================] - 43s 390ms/step - loss: 0.2324 - accuracy: 0.9197 - val_loss: 1.7246 - val_accuracy: 0.5867\n",
      "Epoch 10/20\n",
      "110/110 [==============================] - 43s 387ms/step - loss: 0.1428 - accuracy: 0.9546 - val_loss: 2.0479 - val_accuracy: 0.5687\n",
      "Epoch 11/20\n",
      "110/110 [==============================] - 41s 373ms/step - loss: 0.1110 - accuracy: 0.9646 - val_loss: 2.4383 - val_accuracy: 0.5767\n",
      "Epoch 12/20\n",
      "110/110 [==============================] - 45s 407ms/step - loss: 0.0749 - accuracy: 0.9760 - val_loss: 2.5932 - val_accuracy: 0.5747\n",
      "Epoch 13/20\n",
      "110/110 [==============================] - 48s 437ms/step - loss: 0.0284 - accuracy: 0.9923 - val_loss: 3.1597 - val_accuracy: 0.5433\n",
      "Epoch 14/20\n",
      "110/110 [==============================] - 38s 349ms/step - loss: 0.0231 - accuracy: 0.9937 - val_loss: 3.0899 - val_accuracy: 0.5707\n",
      "Epoch 15/20\n",
      "110/110 [==============================] - 38s 350ms/step - loss: 0.0122 - accuracy: 0.9966 - val_loss: 3.3373 - val_accuracy: 0.5740\n",
      "Epoch 16/20\n",
      "110/110 [==============================] - 39s 358ms/step - loss: 0.0380 - accuracy: 0.9914 - val_loss: 3.0918 - val_accuracy: 0.5720\n",
      "Epoch 17/20\n",
      "110/110 [==============================] - 40s 360ms/step - loss: 0.0344 - accuracy: 0.9897 - val_loss: 3.3874 - val_accuracy: 0.5573\n",
      "Epoch 18/20\n",
      "110/110 [==============================] - 40s 359ms/step - loss: 0.0486 - accuracy: 0.9834 - val_loss: 3.8200 - val_accuracy: 0.5453\n",
      "Epoch 19/20\n",
      "110/110 [==============================] - 39s 357ms/step - loss: 0.1195 - accuracy: 0.9637 - val_loss: 2.9475 - val_accuracy: 0.5573\n",
      "Epoch 20/20\n",
      "110/110 [==============================] - 41s 371ms/step - loss: 0.0490 - accuracy: 0.9846 - val_loss: 3.3563 - val_accuracy: 0.5507\n"
     ]
    },
    {
     "data": {
      "image/png": "[encoded data removed]",
      "text/plain": [
       "<Figure size 432x288 with 1 Axes>"
      ]
     },
     "metadata": {
      "needs_background": "light"
     },
     "output_type": "display_data"
    },
    {
     "name": "stdout",
     "output_type": "stream",
     "text": [
      "Maximum Validation Accuracy =  0.6140000224113464\n"
     ]
    }
   ],
   "source": [
    "#MODEL 3\n",
    "# 2 LAYERS, Increase output channels\n",
    "model_cnn = models.Sequential(\n",
    "    [\n",
    "        layers.Conv2D(64, (3,3), activation = 'relu', input_shape = (100,100,3)), #64 output channels, (3,3) convolution window\n",
    "        layers.MaxPooling2D((2,2)),\n",
    "        layers.Conv2D(128,(3,3), activation = 'relu'), #128 output channels, (3,3) convolution window\n",
    "        layers.MaxPooling2D((2,2)),\n",
    "        layers.Conv2D(128,(3,3), activation = 'relu'), #128 output channels, (3,3) convolution window\n",
    "        \n",
    "        layers.Flatten(),\n",
    "        layers.Dense(64, activation = 'relu'),\n",
    "        layers.Dense(5),\n",
    "\n",
    "        \n",
    "    ])\n",
    "\n",
    "\n",
    "model_cnn.compile(optimizer='adam',\n",
    "              loss=tf.keras.losses.SparseCategoricalCrossentropy(from_logits=True),\n",
    "              metrics=['accuracy'])\n",
    "\n",
    "history = model_cnn.fit(x_train_tensor, y_train_tensor, epochs=20, \n",
    "                    validation_data=(x_test_tensor, y_test_tensor))\n",
    "\n",
    "#Validation Curves\n",
    "\n",
    "plt.plot(history.history['accuracy'])\n",
    "plt.plot(history.history['val_accuracy'])\n",
    "plt.title('model accuracy')\n",
    "plt.ylabel('accuracy')\n",
    "plt.xlabel('Epoch')\n",
    "plt.legend(['training', 'validation'], loc='upper left')\n",
    "plt.show()\n",
    "\n",
    "print('Maximum Validation Accuracy = ', max(history.history['val_accuracy']))"
   ]
  }
 ],
 "metadata": {
  "interpreter": {
   "hash": "aec2e83f823de672f513f7b31b7d58069c9522f1ad26e9202e9eea61dd190220"
  },
  "kernelspec": {
   "display_name": "Python 3.10.4 64-bit",
   "language": "python",
   "name": "python3"
  },
  "language_info": {
   "codemirror_mode": {
    "name": "ipython",
    "version": 3
   },
   "file_extension": ".py",
   "mimetype": "text/x-python",
   "name": "python",
   "nbconvert_exporter": "python",
   "pygments_lexer": "ipython3",
   "version": "3.10.4"
  },
  "orig_nbformat": 4
 },
 "nbformat": 4,
 "nbformat_minor": 2
}
