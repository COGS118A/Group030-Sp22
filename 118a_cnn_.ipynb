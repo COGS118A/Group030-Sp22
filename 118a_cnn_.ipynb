{
 "cells": [
  {
   "cell_type": "code",
   "execution_count": 2,
   "metadata": {},
   "outputs": [],
   "source": [
    "import os\n",
    "import matplotlib.pyplot as plt\n",
    "import matplotlib.image as mpimg\n",
    "import random\n",
    "import json\n",
    "import numpy as np\n",
    "import cv2\n",
    "from matplotlib import pyplot\n",
    "\n",
    "#python -m pip install -U scikit-image\n",
    "#import pandas as pd\n",
    "from sklearn import svm\n",
    "from sklearn.model_selection import GridSearchCV\n",
    "#from skimage.io import imread\n",
    "\n",
    "from skimage.io import imread\n",
    "from skimage.transform import resize\n",
    "\n",
    "from sklearn.model_selection import train_test_split\n",
    "from sklearn.metrics import classification_report, accuracy_score, confusion_matrix\n",
    "import pickle"
   ]
  },
  {
   "cell_type": "code",
   "execution_count": 20,
   "metadata": {},
   "outputs": [],
   "source": [
    "import tensorflow as tf\n",
    "from tensorflow import keras\n",
    "from tensorflow.keras import layers, models\n",
    "\n",
    "dir = \"C:/food-101/food-101/images/\"\n",
    "categories = os.listdir(dir)\n",
    "\n",
    "randomSampleCount = 1000\n",
    "\n",
    "random.seed(255)\n",
    "sequence = [i for i in range(1000)]\n",
    "randList = random.sample(sequence, randomSampleCount)\n",
    "\n",
    "randomSampled = []\n",
    "scaleddir = 'C:/food-101/food-101/imagesScaled/'\n",
    "#for cat in categories:\n",
    "for cat in categories[:5]:\n",
    "    directory = scaleddir + cat\n",
    "    path = os.listdir(directory)\n",
    "    index = 0\n",
    "    imagesToBeSampled = []\n",
    "    for images in path:\n",
    "        index = index + 1\n",
    "        if(index in randList):\n",
    "            imagesToBeSampled.append(images)\n",
    "    randomSampled.append(imagesToBeSampled)\n",
    "#print(randomSampled[0])\n",
    "\n",
    "### CNN ###\n",
    "from sklearn.preprocessing import MinMaxScaler\n",
    "\n",
    "scaled_X = []\n",
    "images2 = []\n",
    "\n",
    "scaleddir = 'C:/food-101/food-101/imagesScaled/'\n",
    "\n",
    "index = 0\n",
    "for cat in categories[:5]:\n",
    "    directory = scaleddir + cat    \n",
    "    path = randomSampled[index]\n",
    "    index = index + 1\n",
    "    for images in path:\n",
    "        toArr = imread(os.path.join(directory, images))\n",
    "        img_resized = resize(toArr, (100, 100,3))\n",
    "        #flat.append(toArr)\n",
    "        scaled_X.append(img_resized)\n",
    "        images2.append(categories.index(cat))\n",
    "\n",
    "scaled_X = np.array(scaled_X)\n",
    "\n",
    "\n",
    "ts = .30\n",
    "rs = 45\n",
    "x_train, x_test, y_train, y_test = train_test_split(\n",
    "    scaled_X, \n",
    "    images2, \n",
    "    test_size=0.2, \n",
    "    random_state=rs, \n",
    "    stratify=images2)"
   ]
  },
  {
   "cell_type": "code",
   "execution_count": 21,
   "metadata": {},
   "outputs": [
    {
     "data": {
      "text/plain": [
       "(3996, 100, 100, 3)"
      ]
     },
     "execution_count": 21,
     "metadata": {},
     "output_type": "execute_result"
    }
   ],
   "source": [
    "x_train.shape"
   ]
  },
  {
   "cell_type": "code",
   "execution_count": 28,
   "metadata": {},
   "outputs": [
    {
     "name": "stdout",
     "output_type": "stream",
     "text": [
      "Model: \"sequential_10\"\n",
      "_________________________________________________________________\n",
      "Layer (type)                 Output Shape              Param #   \n",
      "=================================================================\n",
      "conv2d_32 (Conv2D)           (None, 98, 98, 32)        896       \n",
      "_________________________________________________________________\n",
      "max_pooling2d_23 (MaxPooling (None, 49, 49, 32)        0         \n",
      "_________________________________________________________________\n",
      "conv2d_33 (Conv2D)           (None, 47, 47, 64)        18496     \n",
      "_________________________________________________________________\n",
      "max_pooling2d_24 (MaxPooling (None, 23, 23, 64)        0         \n",
      "_________________________________________________________________\n",
      "conv2d_34 (Conv2D)           (None, 21, 21, 64)        36928     \n",
      "_________________________________________________________________\n",
      "max_pooling2d_25 (MaxPooling (None, 10, 10, 64)        0         \n",
      "_________________________________________________________________\n",
      "conv2d_35 (Conv2D)           (None, 8, 8, 64)          36928     \n",
      "_________________________________________________________________\n",
      "max_pooling2d_26 (MaxPooling (None, 4, 4, 64)          0         \n",
      "_________________________________________________________________\n",
      "conv2d_36 (Conv2D)           (None, 2, 2, 64)          36928     \n",
      "_________________________________________________________________\n",
      "flatten_10 (Flatten)         (None, 256)               0         \n",
      "_________________________________________________________________\n",
      "dense_20 (Dense)             (None, 64)                16448     \n",
      "_________________________________________________________________\n",
      "dense_21 (Dense)             (None, 5)                 325       \n",
      "=================================================================\n",
      "Total params: 146,949\n",
      "Trainable params: 146,949\n",
      "Non-trainable params: 0\n",
      "_________________________________________________________________\n"
     ]
    }
   ],
   "source": [
    "# (3,3) convolutional window, 2 pooling layers,  0.58 val acc\n",
    "model_cnn = models.Sequential(\n",
    "    [\n",
    "        layers.Conv2D(32, (3,3), activation = 'relu', input_shape = (100,100,3)),\n",
    "        layers.MaxPooling2D((2,2)),\n",
    "        layers.Conv2D(64,(3,3), activation = 'relu'),\n",
    "        layers.MaxPooling2D((2,2)),\n",
    "        layers.Conv2D(64,(3,3), activation = 'relu'),\n",
    "        layers.MaxPooling2D((2,2)),\n",
    "        layers.Conv2D(64,(3,3), activation = 'relu'),\n",
    "        layers.MaxPooling2D((2,2)),\n",
    "        layers.Conv2D(64,(3,3), activation = 'relu'),\n",
    "        layers.Flatten(),\n",
    "        layers.Dense(64, activation = 'relu'),\n",
    "        layers.Dense(5),\n",
    "\n",
    "        \n",
    "    ])\n",
    "model_cnn.summary()"
   ]
  },
  {
   "cell_type": "code",
   "execution_count": 29,
   "metadata": {},
   "outputs": [
    {
     "name": "stdout",
     "output_type": "stream",
     "text": [
      "Epoch 1/10\n",
      "125/125 [==============================] - 20s 158ms/step - loss: 1.5421 - accuracy: 0.2795 - val_loss: 1.3727 - val_accuracy: 0.3884\n",
      "Epoch 2/10\n",
      "125/125 [==============================] - 14s 114ms/step - loss: 1.2733 - accuracy: 0.4552 - val_loss: 1.0893 - val_accuracy: 0.5556\n",
      "Epoch 3/10\n",
      "125/125 [==============================] - 14s 115ms/step - loss: 1.0954 - accuracy: 0.5420 - val_loss: 1.0751 - val_accuracy: 0.5566\n",
      "Epoch 4/10\n",
      "125/125 [==============================] - 15s 124ms/step - loss: 1.0148 - accuracy: 0.5693 - val_loss: 1.0040 - val_accuracy: 0.6006\n",
      "Epoch 5/10\n",
      "125/125 [==============================] - 16s 125ms/step - loss: 0.9481 - accuracy: 0.6074 - val_loss: 1.0575 - val_accuracy: 0.5846\n",
      "Epoch 6/10\n",
      "125/125 [==============================] - 16s 126ms/step - loss: 0.9157 - accuracy: 0.6256 - val_loss: 1.0219 - val_accuracy: 0.5886\n",
      "Epoch 7/10\n",
      "125/125 [==============================] - 16s 125ms/step - loss: 0.8507 - accuracy: 0.6474 - val_loss: 1.0253 - val_accuracy: 0.5766\n",
      "Epoch 8/10\n",
      "125/125 [==============================] - 15s 123ms/step - loss: 0.7966 - accuracy: 0.6767 - val_loss: 0.9628 - val_accuracy: 0.6296\n",
      "Epoch 9/10\n",
      "125/125 [==============================] - 15s 123ms/step - loss: 0.7857 - accuracy: 0.6832 - val_loss: 0.9763 - val_accuracy: 0.6206\n",
      "Epoch 10/10\n",
      "125/125 [==============================] - 16s 124ms/step - loss: 0.7248 - accuracy: 0.7052 - val_loss: 0.9774 - val_accuracy: 0.6146\n"
     ]
    }
   ],
   "source": [
    "x_test_tensor = tf.convert_to_tensor(x_test)\n",
    "x_train_tensor = tf.convert_to_tensor(x_train)\n",
    "\n",
    "y_test_tensor = tf.convert_to_tensor(y_test)\n",
    "y_train_tensor = tf.convert_to_tensor(y_train)\n",
    "\n",
    "model_cnn.compile(optimizer='adam',\n",
    "              loss=tf.keras.losses.SparseCategoricalCrossentropy(from_logits=True),\n",
    "              metrics=['accuracy'])\n",
    "\n",
    "history = model_cnn.fit(x_train_tensor, y_train_tensor, epochs=100, \n",
    "                    validation_data=(x_test_tensor, y_test_tensor))"
   ]
  }
 ],
 "metadata": {
  "interpreter": {
   "hash": "c3cf2b9a74792a298d813d8725ef2614acbb95364df75e606b50e949493fc178"
  },
  "kernelspec": {
   "display_name": "Python 3.8.13 ('NEW_ENV')",
   "language": "python",
   "name": "python3"
  },
  "language_info": {
   "codemirror_mode": {
    "name": "ipython",
    "version": 3
   },
   "file_extension": ".py",
   "mimetype": "text/x-python",
   "name": "python",
   "nbconvert_exporter": "python",
   "pygments_lexer": "ipython3",
   "version": "3.8.13"
  },
  "orig_nbformat": 4
 },
 "nbformat": 4,
 "nbformat_minor": 2
}
