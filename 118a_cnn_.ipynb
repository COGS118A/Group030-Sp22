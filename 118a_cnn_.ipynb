{
 "cells": [
  {
   "cell_type": "code",
   "execution_count": 3,
   "metadata": {},
   "outputs": [],
   "source": [
    "import os\n",
    "import matplotlib.pyplot as plt\n",
    "import matplotlib.image as mpimg\n",
    "import random\n",
    "import json\n",
    "import numpy as np\n",
    "import cv2\n",
    "\n",
    "\n",
    "#import pandas as pd\n",
    "from sklearn import svm\n",
    "from sklearn.model_selection import GridSearchCV\n",
    "#from skimage.io import imread\n",
    "from sklearn import preprocessing\n",
    "from skimage.io import imread\n",
    "from skimage.transform import resize\n",
    "\n",
    "from sklearn.model_selection import train_test_split\n",
    "from sklearn.metrics import classification_report, accuracy_score, confusion_matrix\n",
    "import pickle"
   ]
  },
  {
   "cell_type": "code",
   "execution_count": null,
   "metadata": {},
   "outputs": [],
   "source": [
    "import tensorflow as tf\n",
    "from tensorflow import keras\n",
    "from tensorflow.keras import layers, models"
   ]
  },
  {
   "cell_type": "code",
   "execution_count": 66,
   "metadata": {},
   "outputs": [],
   "source": [
    "categories = open('C:/food-101/food-101/meta/classes.txt').read().split()\n",
    "cats = random.sample(categories,5)\n",
    "dir = \"C:/food-101/food-101/images/\"\n",
    "#categories = os.listdir(dir)\n",
    "\n",
    "randomSampleCount = 1000\n",
    "\n",
    "random.seed(255)\n",
    "sequence = [i for i in range(1000)]\n",
    "randList = random.sample(sequence, randomSampleCount)\n",
    "\n",
    "randomSampled = []\n",
    "scaleddir = 'C:/food-101/food-101/imagesScaled/'\n",
    "#for cat in categories:\n",
    "for cat in categories:\n",
    "    directory = scaleddir + cat\n",
    "    path = os.listdir(directory)\n",
    "    index = 0\n",
    "    imagesToBeSampled = []\n",
    "    for images in path:\n",
    "        index = index + 1\n",
    "        if(index in randList):\n",
    "            imagesToBeSampled.append(images)\n",
    "    randomSampled.append(imagesToBeSampled)\n",
    "#print(randomSampled[0])\n",
    "\n",
    "### CNN ###\n",
    "from sklearn.preprocessing import MinMaxScaler\n",
    "\n",
    "scaled_X = []\n",
    "images2 = []\n",
    "\n",
    "scaleddir = 'C:/food-101/food-101/imagesScaled/'\n",
    "\n",
    "index = 0\n",
    "for cat in random.sample(categories, 5):\n",
    "    directory = scaleddir + cat    \n",
    "    path = [f for f in os.listdir(directory) if os.path.isfile(os.path.join(directory, f))]\n",
    "    index = index + 1\n",
    "    for images in path:\n",
    "        toArr = imread(os.path.join(directory, images))\n",
    "        img_resized = resize(toArr, (100, 100,3))\n",
    "        #flat.append(toArr)\n",
    "        scaled_X.append(img_resized)\n",
    "        images2.append(categories.index(cat))\n",
    "\n",
    "scaled_X = np.array(scaled_X)\n",
    "\n",
    "#encode image labels \n",
    "le = preprocessing.LabelEncoder()\n",
    "le.fit(images2)\n",
    "\n",
    "#train/test split\n",
    "rs = 45\n",
    "x_train, x_test, y_train, y_test = train_test_split(\n",
    "    scaled_X, \n",
    "    le.transform(images2), \n",
    "    test_size=0.3, \n",
    "    random_state=rs, \n",
    "    stratify=images2)"
   ]
  },
  {
   "cell_type": "code",
   "execution_count": 65,
   "metadata": {},
   "outputs": [
    {
     "data": {
      "text/plain": [
       "array([3, 3, 3, ..., 2, 2, 2], dtype=int64)"
      ]
     },
     "execution_count": 65,
     "metadata": {},
     "output_type": "execute_result"
    }
   ],
   "source": []
  },
  {
   "cell_type": "markdown",
   "metadata": {},
   "source": [
    "CNN Model Selection\n"
   ]
  },
  {
   "cell_type": "code",
   "execution_count": 68,
   "metadata": {},
   "outputs": [
    {
     "name": "stdout",
     "output_type": "stream",
     "text": [
      "Epoch 1/10\n",
      "110/110 [==============================] - 18s 157ms/step - loss: 1.5523 - accuracy: 0.2903 - val_loss: 1.4347 - val_accuracy: 0.4100\n",
      "Epoch 2/10\n",
      "110/110 [==============================] - 17s 155ms/step - loss: 1.3989 - accuracy: 0.4011 - val_loss: 1.3097 - val_accuracy: 0.4673\n",
      "Epoch 3/10\n",
      "110/110 [==============================] - 18s 167ms/step - loss: 1.2849 - accuracy: 0.4649 - val_loss: 1.2222 - val_accuracy: 0.5207\n",
      "Epoch 4/10\n",
      "110/110 [==============================] - 17s 158ms/step - loss: 1.1766 - accuracy: 0.5286 - val_loss: 1.2822 - val_accuracy: 0.4747\n",
      "Epoch 5/10\n",
      "110/110 [==============================] - 17s 158ms/step - loss: 1.0881 - accuracy: 0.5749 - val_loss: 1.1294 - val_accuracy: 0.5540\n",
      "Epoch 6/10\n",
      "110/110 [==============================] - 17s 158ms/step - loss: 1.0193 - accuracy: 0.5977 - val_loss: 1.1503 - val_accuracy: 0.5720\n",
      "Epoch 7/10\n",
      "110/110 [==============================] - 17s 159ms/step - loss: 0.9461 - accuracy: 0.6317 - val_loss: 1.0327 - val_accuracy: 0.5993\n",
      "Epoch 8/10\n",
      "110/110 [==============================] - 17s 157ms/step - loss: 0.8505 - accuracy: 0.6757 - val_loss: 1.0410 - val_accuracy: 0.6040\n",
      "Epoch 9/10\n",
      "110/110 [==============================] - 17s 158ms/step - loss: 0.7733 - accuracy: 0.7003 - val_loss: 1.0861 - val_accuracy: 0.5833\n",
      "Epoch 10/10\n",
      "110/110 [==============================] - 17s 158ms/step - loss: 0.7224 - accuracy: 0.7249 - val_loss: 1.0060 - val_accuracy: 0.6280\n"
     ]
    },
    {
     "data": {
      "image/png": "[encoded data removed]",
      "text/plain": [
       "<Figure size 432x288 with 1 Axes>"
      ]
     },
     "metadata": {
      "needs_background": "light"
     },
     "output_type": "display_data"
    },
    {
     "name": "stdout",
     "output_type": "stream",
     "text": [
      "Maximum Validation Accuracy =  0.628000020980835\n"
     ]
    }
   ],
   "source": [
    "# MODEL 1\n",
    "# 4 LAYERS\n",
    "#Try different batch sizes\n",
    "model_cnn = models.Sequential(\n",
    "    [\n",
    "        layers.Conv2D(32, (3,3), activation = 'relu', input_shape = (100,100,3)), #32 output channels, (3,3) convolution window\n",
    "        layers.MaxPooling2D((2,2)),\n",
    "        layers.Conv2D(64,(3,3), activation = 'relu'), #64 output channels, (3,3) convolution window\n",
    "        layers.MaxPooling2D((2,2)),\n",
    "        layers.Conv2D(64,(3,3), activation = 'relu'), #64 output channels, (3,3) convolution window\n",
    "        layers.MaxPooling2D((2,2)),\n",
    "        layers.Conv2D(64,(3,3), activation = 'relu'), #64 output channels, (3,3) convolution window\n",
    "        layers.MaxPooling2D((2,2)),\n",
    "        layers.Conv2D(64,(3,3), activation = 'relu'), #64 output channels, (3,3) convolution window\n",
    "        \n",
    "        layers.Flatten(),\n",
    "        layers.Dense(64, activation = 'relu'),\n",
    "        layers.Dense(5),\n",
    "\n",
    "        \n",
    "    ])\n",
    "#model_cnn.summary()\n",
    "\n",
    "## Convert data to tf tensors and train \n",
    "\n",
    "x_test_tensor = tf.convert_to_tensor(x_test)\n",
    "x_train_tensor = tf.convert_to_tensor(x_train)\n",
    "\n",
    "\n",
    "y_test_tensor = tf.convert_to_tensor(y_test)\n",
    "y_train_tensor = tf.convert_to_tensor(y_train)\n",
    "\n",
    "model_cnn.compile(optimizer='adam',\n",
    "              loss=tf.keras.losses.SparseCategoricalCrossentropy(from_logits=True), #SCC is optimal for multiclass\n",
    "              metrics=['accuracy'])\n",
    "\n",
    "history = model_cnn.fit(x_train_tensor, y_train_tensor, epochs=20, \n",
    "                    validation_data=(x_test_tensor, y_test_tensor))\n",
    "\n",
    "#Validation Curves\n",
    "\n",
    "plt.plot(history.history['accuracy'])\n",
    "plt.plot(history.history['val_accuracy'])\n",
    "plt.title('model accuracy')\n",
    "plt.ylabel('Accuracy')\n",
    "plt.xlabel('Epoch')\n",
    "plt.legend(['training', 'validation'], loc='upper left')\n",
    "plt.show()\n",
    "\n",
    "print('Maximum Validation Accuracy = ', max(history.history['val_accuracy']))"
   ]
  },
  {
   "cell_type": "code",
   "execution_count": 37,
   "metadata": {},
   "outputs": [
    {
     "name": "stdout",
     "output_type": "stream",
     "text": [
      "Epoch 1/10\n"
     ]
    },
    {
     "ename": "InvalidArgumentError",
     "evalue": "Graph execution error:\n\nDetected at node 'sparse_categorical_crossentropy/SparseSoftmaxCrossEntropyWithLogits/SparseSoftmaxCrossEntropyWithLogits' defined at (most recent call last):\n    File \"c:\\Users\\ryanb\\AppData\\Local\\Programs\\Python\\Python310\\lib\\runpy.py\", line 196, in _run_module_as_main\n      return _run_code(code, main_globals, None,\n    File \"c:\\Users\\ryanb\\AppData\\Local\\Programs\\Python\\Python310\\lib\\runpy.py\", line 86, in _run_code\n      exec(code, run_globals)\n    File \"c:\\Users\\ryanb\\AppData\\Local\\Programs\\Python\\Python310\\lib\\site-packages\\ipykernel_launcher.py\", line 17, in <module>\n      app.launch_new_instance()\n    File \"c:\\Users\\ryanb\\AppData\\Local\\Programs\\Python\\Python310\\lib\\site-packages\\traitlets\\config\\application.py\", line 972, in launch_instance\n      app.start()\n    File \"c:\\Users\\ryanb\\AppData\\Local\\Programs\\Python\\Python310\\lib\\site-packages\\ipykernel\\kernelapp.py\", line 712, in start\n      self.io_loop.start()\n    File \"c:\\Users\\ryanb\\AppData\\Local\\Programs\\Python\\Python310\\lib\\site-packages\\tornado\\platform\\asyncio.py\", line 199, in start\n      self.asyncio_loop.run_forever()\n    File \"c:\\Users\\ryanb\\AppData\\Local\\Programs\\Python\\Python310\\lib\\asyncio\\base_events.py\", line 600, in run_forever\n      self._run_once()\n    File \"c:\\Users\\ryanb\\AppData\\Local\\Programs\\Python\\Python310\\lib\\asyncio\\base_events.py\", line 1896, in _run_once\n      handle._run()\n    File \"c:\\Users\\ryanb\\AppData\\Local\\Programs\\Python\\Python310\\lib\\asyncio\\events.py\", line 80, in _run\n      self._context.run(self._callback, *self._args)\n    File \"c:\\Users\\ryanb\\AppData\\Local\\Programs\\Python\\Python310\\lib\\site-packages\\ipykernel\\kernelbase.py\", line 504, in dispatch_queue\n      await self.process_one()\n    File \"c:\\Users\\ryanb\\AppData\\Local\\Programs\\Python\\Python310\\lib\\site-packages\\ipykernel\\kernelbase.py\", line 493, in process_one\n      await dispatch(*args)\n    File \"c:\\Users\\ryanb\\AppData\\Local\\Programs\\Python\\Python310\\lib\\site-packages\\ipykernel\\kernelbase.py\", line 400, in dispatch_shell\n      await result\n    File \"c:\\Users\\ryanb\\AppData\\Local\\Programs\\Python\\Python310\\lib\\site-packages\\ipykernel\\kernelbase.py\", line 724, in execute_request\n      reply_content = await reply_content\n    File \"c:\\Users\\ryanb\\AppData\\Local\\Programs\\Python\\Python310\\lib\\site-packages\\ipykernel\\ipkernel.py\", line 383, in do_execute\n      res = shell.run_cell(\n    File \"c:\\Users\\ryanb\\AppData\\Local\\Programs\\Python\\Python310\\lib\\site-packages\\ipykernel\\zmqshell.py\", line 528, in run_cell\n      return super().run_cell(*args, **kwargs)\n    File \"c:\\Users\\ryanb\\AppData\\Local\\Programs\\Python\\Python310\\lib\\site-packages\\IPython\\core\\interactiveshell.py\", line 2881, in run_cell\n      result = self._run_cell(\n    File \"c:\\Users\\ryanb\\AppData\\Local\\Programs\\Python\\Python310\\lib\\site-packages\\IPython\\core\\interactiveshell.py\", line 2936, in _run_cell\n      return runner(coro)\n    File \"c:\\Users\\ryanb\\AppData\\Local\\Programs\\Python\\Python310\\lib\\site-packages\\IPython\\core\\async_helpers.py\", line 129, in _pseudo_sync_runner\n      coro.send(None)\n    File \"c:\\Users\\ryanb\\AppData\\Local\\Programs\\Python\\Python310\\lib\\site-packages\\IPython\\core\\interactiveshell.py\", line 3135, in run_cell_async\n      has_raised = await self.run_ast_nodes(code_ast.body, cell_name,\n    File \"c:\\Users\\ryanb\\AppData\\Local\\Programs\\Python\\Python310\\lib\\site-packages\\IPython\\core\\interactiveshell.py\", line 3338, in run_ast_nodes\n      if await self.run_code(code, result, async_=asy):\n    File \"c:\\Users\\ryanb\\AppData\\Local\\Programs\\Python\\Python310\\lib\\site-packages\\IPython\\core\\interactiveshell.py\", line 3398, in run_code\n      exec(code_obj, self.user_global_ns, self.user_ns)\n    File \"C:\\Users\\ryanb\\AppData\\Local\\Temp\\ipykernel_18068\\1515804455.py\", line 25, in <cell line: 25>\n      history = model_cnn.fit(x_train_tensor, y_train_tensor, epochs=10,\n    File \"C:\\Users\\ryanb\\AppData\\Roaming\\Python\\Python310\\site-packages\\keras\\utils\\traceback_utils.py\", line 64, in error_handler\n      return fn(*args, **kwargs)\n    File \"C:\\Users\\ryanb\\AppData\\Roaming\\Python\\Python310\\site-packages\\keras\\engine\\training.py\", line 1409, in fit\n      tmp_logs = self.train_function(iterator)\n    File \"C:\\Users\\ryanb\\AppData\\Roaming\\Python\\Python310\\site-packages\\keras\\engine\\training.py\", line 1051, in train_function\n      return step_function(self, iterator)\n    File \"C:\\Users\\ryanb\\AppData\\Roaming\\Python\\Python310\\site-packages\\keras\\engine\\training.py\", line 1040, in step_function\n      outputs = model.distribute_strategy.run(run_step, args=(data,))\n    File \"C:\\Users\\ryanb\\AppData\\Roaming\\Python\\Python310\\site-packages\\keras\\engine\\training.py\", line 1030, in run_step\n      outputs = model.train_step(data)\n    File \"C:\\Users\\ryanb\\AppData\\Roaming\\Python\\Python310\\site-packages\\keras\\engine\\training.py\", line 890, in train_step\n      loss = self.compute_loss(x, y, y_pred, sample_weight)\n    File \"C:\\Users\\ryanb\\AppData\\Roaming\\Python\\Python310\\site-packages\\keras\\engine\\training.py\", line 948, in compute_loss\n      return self.compiled_loss(\n    File \"C:\\Users\\ryanb\\AppData\\Roaming\\Python\\Python310\\site-packages\\keras\\engine\\compile_utils.py\", line 201, in __call__\n      loss_value = loss_obj(y_t, y_p, sample_weight=sw)\n    File \"C:\\Users\\ryanb\\AppData\\Roaming\\Python\\Python310\\site-packages\\keras\\losses.py\", line 139, in __call__\n      losses = call_fn(y_true, y_pred)\n    File \"C:\\Users\\ryanb\\AppData\\Roaming\\Python\\Python310\\site-packages\\keras\\losses.py\", line 243, in call\n      return ag_fn(y_true, y_pred, **self._fn_kwargs)\n    File \"C:\\Users\\ryanb\\AppData\\Roaming\\Python\\Python310\\site-packages\\keras\\losses.py\", line 1860, in sparse_categorical_crossentropy\n      return backend.sparse_categorical_crossentropy(\n    File \"C:\\Users\\ryanb\\AppData\\Roaming\\Python\\Python310\\site-packages\\keras\\backend.py\", line 5238, in sparse_categorical_crossentropy\n      res = tf.nn.sparse_softmax_cross_entropy_with_logits(\nNode: 'sparse_categorical_crossentropy/SparseSoftmaxCrossEntropyWithLogits/SparseSoftmaxCrossEntropyWithLogits'\nReceived a label value of 99 which is outside the valid range of [0, 5).  Label values: 99 41 99 99 19 19 30 77 41 30 30 19 30 77 77 77 99 41 30 19 19 77 30 41 30 99 41 19 19 77 99 41\n\t [[{{node sparse_categorical_crossentropy/SparseSoftmaxCrossEntropyWithLogits/SparseSoftmaxCrossEntropyWithLogits}}]] [Op:__inference_train_function_7381]",
     "output_type": "error",
     "traceback": [
      "\u001b[1;31m---------------------------------------------------------------------------\u001b[0m",
      "\u001b[1;31mInvalidArgumentError\u001b[0m                      Traceback (most recent call last)",
      "\u001b[1;32mc:\\Users\\ryanb\\OneDrive\\Documents\\GitHub\\Group030-Sp22\\118a_cnn_.ipynb Cell 7'\u001b[0m in \u001b[0;36m<cell line: 25>\u001b[1;34m()\u001b[0m\n\u001b[0;32m      <a href='vscode-notebook-cell:/c%3A/Users/ryanb/OneDrive/Documents/GitHub/Group030-Sp22/118a_cnn_.ipynb#ch0000007?line=3'>4</a>\u001b[0m model_cnn \u001b[39m=\u001b[39m models\u001b[39m.\u001b[39mSequential(\n\u001b[0;32m      <a href='vscode-notebook-cell:/c%3A/Users/ryanb/OneDrive/Documents/GitHub/Group030-Sp22/118a_cnn_.ipynb#ch0000007?line=4'>5</a>\u001b[0m     [\n\u001b[0;32m      <a href='vscode-notebook-cell:/c%3A/Users/ryanb/OneDrive/Documents/GitHub/Group030-Sp22/118a_cnn_.ipynb#ch0000007?line=5'>6</a>\u001b[0m         layers\u001b[39m.\u001b[39mConv2D(\u001b[39m32\u001b[39m, (\u001b[39m3\u001b[39m,\u001b[39m3\u001b[39m), activation \u001b[39m=\u001b[39m \u001b[39m'\u001b[39m\u001b[39mrelu\u001b[39m\u001b[39m'\u001b[39m, input_shape \u001b[39m=\u001b[39m (\u001b[39m100\u001b[39m,\u001b[39m100\u001b[39m,\u001b[39m3\u001b[39m)), \u001b[39m#32 output channels, (3,3) convolution window\u001b[39;00m\n\u001b[1;32m   (...)\u001b[0m\n\u001b[0;32m     <a href='vscode-notebook-cell:/c%3A/Users/ryanb/OneDrive/Documents/GitHub/Group030-Sp22/118a_cnn_.ipynb#ch0000007?line=15'>16</a>\u001b[0m         \n\u001b[0;32m     <a href='vscode-notebook-cell:/c%3A/Users/ryanb/OneDrive/Documents/GitHub/Group030-Sp22/118a_cnn_.ipynb#ch0000007?line=16'>17</a>\u001b[0m     ])\n\u001b[0;32m     <a href='vscode-notebook-cell:/c%3A/Users/ryanb/OneDrive/Documents/GitHub/Group030-Sp22/118a_cnn_.ipynb#ch0000007?line=20'>21</a>\u001b[0m model_cnn\u001b[39m.\u001b[39mcompile(optimizer\u001b[39m=\u001b[39m\u001b[39m'\u001b[39m\u001b[39madam\u001b[39m\u001b[39m'\u001b[39m,\n\u001b[0;32m     <a href='vscode-notebook-cell:/c%3A/Users/ryanb/OneDrive/Documents/GitHub/Group030-Sp22/118a_cnn_.ipynb#ch0000007?line=21'>22</a>\u001b[0m               loss\u001b[39m=\u001b[39mtf\u001b[39m.\u001b[39mkeras\u001b[39m.\u001b[39mlosses\u001b[39m.\u001b[39mSparseCategoricalCrossentropy(),\n\u001b[0;32m     <a href='vscode-notebook-cell:/c%3A/Users/ryanb/OneDrive/Documents/GitHub/Group030-Sp22/118a_cnn_.ipynb#ch0000007?line=22'>23</a>\u001b[0m               metrics\u001b[39m=\u001b[39m[\u001b[39m'\u001b[39m\u001b[39maccuracy\u001b[39m\u001b[39m'\u001b[39m])\n\u001b[1;32m---> <a href='vscode-notebook-cell:/c%3A/Users/ryanb/OneDrive/Documents/GitHub/Group030-Sp22/118a_cnn_.ipynb#ch0000007?line=24'>25</a>\u001b[0m history \u001b[39m=\u001b[39m model_cnn\u001b[39m.\u001b[39;49mfit(x_train_tensor, y_train_tensor, epochs\u001b[39m=\u001b[39;49m\u001b[39m10\u001b[39;49m, \n\u001b[0;32m     <a href='vscode-notebook-cell:/c%3A/Users/ryanb/OneDrive/Documents/GitHub/Group030-Sp22/118a_cnn_.ipynb#ch0000007?line=25'>26</a>\u001b[0m                     validation_data\u001b[39m=\u001b[39;49m(x_test_tensor, y_test_tensor))\n\u001b[0;32m     <a href='vscode-notebook-cell:/c%3A/Users/ryanb/OneDrive/Documents/GitHub/Group030-Sp22/118a_cnn_.ipynb#ch0000007?line=27'>28</a>\u001b[0m \u001b[39m#Validation Curves\u001b[39;00m\n\u001b[0;32m     <a href='vscode-notebook-cell:/c%3A/Users/ryanb/OneDrive/Documents/GitHub/Group030-Sp22/118a_cnn_.ipynb#ch0000007?line=29'>30</a>\u001b[0m plt\u001b[39m.\u001b[39mplot(history\u001b[39m.\u001b[39mhistory[\u001b[39m'\u001b[39m\u001b[39maccuracy\u001b[39m\u001b[39m'\u001b[39m])\n",
      "File \u001b[1;32m~\\AppData\\Roaming\\Python\\Python310\\site-packages\\keras\\utils\\traceback_utils.py:67\u001b[0m, in \u001b[0;36mfilter_traceback.<locals>.error_handler\u001b[1;34m(*args, **kwargs)\u001b[0m\n\u001b[0;32m     <a href='file:///c%3A/Users/ryanb/AppData/Roaming/Python/Python310/site-packages/keras/utils/traceback_utils.py?line=64'>65</a>\u001b[0m \u001b[39mexcept\u001b[39;00m \u001b[39mException\u001b[39;00m \u001b[39mas\u001b[39;00m e:  \u001b[39m# pylint: disable=broad-except\u001b[39;00m\n\u001b[0;32m     <a href='file:///c%3A/Users/ryanb/AppData/Roaming/Python/Python310/site-packages/keras/utils/traceback_utils.py?line=65'>66</a>\u001b[0m   filtered_tb \u001b[39m=\u001b[39m _process_traceback_frames(e\u001b[39m.\u001b[39m__traceback__)\n\u001b[1;32m---> <a href='file:///c%3A/Users/ryanb/AppData/Roaming/Python/Python310/site-packages/keras/utils/traceback_utils.py?line=66'>67</a>\u001b[0m   \u001b[39mraise\u001b[39;00m e\u001b[39m.\u001b[39mwith_traceback(filtered_tb) \u001b[39mfrom\u001b[39;00m \u001b[39mNone\u001b[39m\n\u001b[0;32m     <a href='file:///c%3A/Users/ryanb/AppData/Roaming/Python/Python310/site-packages/keras/utils/traceback_utils.py?line=67'>68</a>\u001b[0m \u001b[39mfinally\u001b[39;00m:\n\u001b[0;32m     <a href='file:///c%3A/Users/ryanb/AppData/Roaming/Python/Python310/site-packages/keras/utils/traceback_utils.py?line=68'>69</a>\u001b[0m   \u001b[39mdel\u001b[39;00m filtered_tb\n",
      "File \u001b[1;32m~\\AppData\\Roaming\\Python\\Python310\\site-packages\\tensorflow\\python\\eager\\execute.py:54\u001b[0m, in \u001b[0;36mquick_execute\u001b[1;34m(op_name, num_outputs, inputs, attrs, ctx, name)\u001b[0m\n\u001b[0;32m     <a href='file:///c%3A/Users/ryanb/AppData/Roaming/Python/Python310/site-packages/tensorflow/python/eager/execute.py?line=51'>52</a>\u001b[0m \u001b[39mtry\u001b[39;00m:\n\u001b[0;32m     <a href='file:///c%3A/Users/ryanb/AppData/Roaming/Python/Python310/site-packages/tensorflow/python/eager/execute.py?line=52'>53</a>\u001b[0m   ctx\u001b[39m.\u001b[39mensure_initialized()\n\u001b[1;32m---> <a href='file:///c%3A/Users/ryanb/AppData/Roaming/Python/Python310/site-packages/tensorflow/python/eager/execute.py?line=53'>54</a>\u001b[0m   tensors \u001b[39m=\u001b[39m pywrap_tfe\u001b[39m.\u001b[39mTFE_Py_Execute(ctx\u001b[39m.\u001b[39m_handle, device_name, op_name,\n\u001b[0;32m     <a href='file:///c%3A/Users/ryanb/AppData/Roaming/Python/Python310/site-packages/tensorflow/python/eager/execute.py?line=54'>55</a>\u001b[0m                                       inputs, attrs, num_outputs)\n\u001b[0;32m     <a href='file:///c%3A/Users/ryanb/AppData/Roaming/Python/Python310/site-packages/tensorflow/python/eager/execute.py?line=55'>56</a>\u001b[0m \u001b[39mexcept\u001b[39;00m core\u001b[39m.\u001b[39m_NotOkStatusException \u001b[39mas\u001b[39;00m e:\n\u001b[0;32m     <a href='file:///c%3A/Users/ryanb/AppData/Roaming/Python/Python310/site-packages/tensorflow/python/eager/execute.py?line=56'>57</a>\u001b[0m   \u001b[39mif\u001b[39;00m name \u001b[39mis\u001b[39;00m \u001b[39mnot\u001b[39;00m \u001b[39mNone\u001b[39;00m:\n",
      "\u001b[1;31mInvalidArgumentError\u001b[0m: Graph execution error:\n\nDetected at node 'sparse_categorical_crossentropy/SparseSoftmaxCrossEntropyWithLogits/SparseSoftmaxCrossEntropyWithLogits' defined at (most recent call last):\n    File \"c:\\Users\\ryanb\\AppData\\Local\\Programs\\Python\\Python310\\lib\\runpy.py\", line 196, in _run_module_as_main\n      return _run_code(code, main_globals, None,\n    File \"c:\\Users\\ryanb\\AppData\\Local\\Programs\\Python\\Python310\\lib\\runpy.py\", line 86, in _run_code\n      exec(code, run_globals)\n    File \"c:\\Users\\ryanb\\AppData\\Local\\Programs\\Python\\Python310\\lib\\site-packages\\ipykernel_launcher.py\", line 17, in <module>\n      app.launch_new_instance()\n    File \"c:\\Users\\ryanb\\AppData\\Local\\Programs\\Python\\Python310\\lib\\site-packages\\traitlets\\config\\application.py\", line 972, in launch_instance\n      app.start()\n    File \"c:\\Users\\ryanb\\AppData\\Local\\Programs\\Python\\Python310\\lib\\site-packages\\ipykernel\\kernelapp.py\", line 712, in start\n      self.io_loop.start()\n    File \"c:\\Users\\ryanb\\AppData\\Local\\Programs\\Python\\Python310\\lib\\site-packages\\tornado\\platform\\asyncio.py\", line 199, in start\n      self.asyncio_loop.run_forever()\n    File \"c:\\Users\\ryanb\\AppData\\Local\\Programs\\Python\\Python310\\lib\\asyncio\\base_events.py\", line 600, in run_forever\n      self._run_once()\n    File \"c:\\Users\\ryanb\\AppData\\Local\\Programs\\Python\\Python310\\lib\\asyncio\\base_events.py\", line 1896, in _run_once\n      handle._run()\n    File \"c:\\Users\\ryanb\\AppData\\Local\\Programs\\Python\\Python310\\lib\\asyncio\\events.py\", line 80, in _run\n      self._context.run(self._callback, *self._args)\n    File \"c:\\Users\\ryanb\\AppData\\Local\\Programs\\Python\\Python310\\lib\\site-packages\\ipykernel\\kernelbase.py\", line 504, in dispatch_queue\n      await self.process_one()\n    File \"c:\\Users\\ryanb\\AppData\\Local\\Programs\\Python\\Python310\\lib\\site-packages\\ipykernel\\kernelbase.py\", line 493, in process_one\n      await dispatch(*args)\n    File \"c:\\Users\\ryanb\\AppData\\Local\\Programs\\Python\\Python310\\lib\\site-packages\\ipykernel\\kernelbase.py\", line 400, in dispatch_shell\n      await result\n    File \"c:\\Users\\ryanb\\AppData\\Local\\Programs\\Python\\Python310\\lib\\site-packages\\ipykernel\\kernelbase.py\", line 724, in execute_request\n      reply_content = await reply_content\n    File \"c:\\Users\\ryanb\\AppData\\Local\\Programs\\Python\\Python310\\lib\\site-packages\\ipykernel\\ipkernel.py\", line 383, in do_execute\n      res = shell.run_cell(\n    File \"c:\\Users\\ryanb\\AppData\\Local\\Programs\\Python\\Python310\\lib\\site-packages\\ipykernel\\zmqshell.py\", line 528, in run_cell\n      return super().run_cell(*args, **kwargs)\n    File \"c:\\Users\\ryanb\\AppData\\Local\\Programs\\Python\\Python310\\lib\\site-packages\\IPython\\core\\interactiveshell.py\", line 2881, in run_cell\n      result = self._run_cell(\n    File \"c:\\Users\\ryanb\\AppData\\Local\\Programs\\Python\\Python310\\lib\\site-packages\\IPython\\core\\interactiveshell.py\", line 2936, in _run_cell\n      return runner(coro)\n    File \"c:\\Users\\ryanb\\AppData\\Local\\Programs\\Python\\Python310\\lib\\site-packages\\IPython\\core\\async_helpers.py\", line 129, in _pseudo_sync_runner\n      coro.send(None)\n    File \"c:\\Users\\ryanb\\AppData\\Local\\Programs\\Python\\Python310\\lib\\site-packages\\IPython\\core\\interactiveshell.py\", line 3135, in run_cell_async\n      has_raised = await self.run_ast_nodes(code_ast.body, cell_name,\n    File \"c:\\Users\\ryanb\\AppData\\Local\\Programs\\Python\\Python310\\lib\\site-packages\\IPython\\core\\interactiveshell.py\", line 3338, in run_ast_nodes\n      if await self.run_code(code, result, async_=asy):\n    File \"c:\\Users\\ryanb\\AppData\\Local\\Programs\\Python\\Python310\\lib\\site-packages\\IPython\\core\\interactiveshell.py\", line 3398, in run_code\n      exec(code_obj, self.user_global_ns, self.user_ns)\n    File \"C:\\Users\\ryanb\\AppData\\Local\\Temp\\ipykernel_18068\\1515804455.py\", line 25, in <cell line: 25>\n      history = model_cnn.fit(x_train_tensor, y_train_tensor, epochs=10,\n    File \"C:\\Users\\ryanb\\AppData\\Roaming\\Python\\Python310\\site-packages\\keras\\utils\\traceback_utils.py\", line 64, in error_handler\n      return fn(*args, **kwargs)\n    File \"C:\\Users\\ryanb\\AppData\\Roaming\\Python\\Python310\\site-packages\\keras\\engine\\training.py\", line 1409, in fit\n      tmp_logs = self.train_function(iterator)\n    File \"C:\\Users\\ryanb\\AppData\\Roaming\\Python\\Python310\\site-packages\\keras\\engine\\training.py\", line 1051, in train_function\n      return step_function(self, iterator)\n    File \"C:\\Users\\ryanb\\AppData\\Roaming\\Python\\Python310\\site-packages\\keras\\engine\\training.py\", line 1040, in step_function\n      outputs = model.distribute_strategy.run(run_step, args=(data,))\n    File \"C:\\Users\\ryanb\\AppData\\Roaming\\Python\\Python310\\site-packages\\keras\\engine\\training.py\", line 1030, in run_step\n      outputs = model.train_step(data)\n    File \"C:\\Users\\ryanb\\AppData\\Roaming\\Python\\Python310\\site-packages\\keras\\engine\\training.py\", line 890, in train_step\n      loss = self.compute_loss(x, y, y_pred, sample_weight)\n    File \"C:\\Users\\ryanb\\AppData\\Roaming\\Python\\Python310\\site-packages\\keras\\engine\\training.py\", line 948, in compute_loss\n      return self.compiled_loss(\n    File \"C:\\Users\\ryanb\\AppData\\Roaming\\Python\\Python310\\site-packages\\keras\\engine\\compile_utils.py\", line 201, in __call__\n      loss_value = loss_obj(y_t, y_p, sample_weight=sw)\n    File \"C:\\Users\\ryanb\\AppData\\Roaming\\Python\\Python310\\site-packages\\keras\\losses.py\", line 139, in __call__\n      losses = call_fn(y_true, y_pred)\n    File \"C:\\Users\\ryanb\\AppData\\Roaming\\Python\\Python310\\site-packages\\keras\\losses.py\", line 243, in call\n      return ag_fn(y_true, y_pred, **self._fn_kwargs)\n    File \"C:\\Users\\ryanb\\AppData\\Roaming\\Python\\Python310\\site-packages\\keras\\losses.py\", line 1860, in sparse_categorical_crossentropy\n      return backend.sparse_categorical_crossentropy(\n    File \"C:\\Users\\ryanb\\AppData\\Roaming\\Python\\Python310\\site-packages\\keras\\backend.py\", line 5238, in sparse_categorical_crossentropy\n      res = tf.nn.sparse_softmax_cross_entropy_with_logits(\nNode: 'sparse_categorical_crossentropy/SparseSoftmaxCrossEntropyWithLogits/SparseSoftmaxCrossEntropyWithLogits'\nReceived a label value of 99 which is outside the valid range of [0, 5).  Label values: 99 41 99 99 19 19 30 77 41 30 30 19 30 77 77 77 99 41 30 19 19 77 30 41 30 99 41 19 19 77 99 41\n\t [[{{node sparse_categorical_crossentropy/SparseSoftmaxCrossEntropyWithLogits/SparseSoftmaxCrossEntropyWithLogits}}]] [Op:__inference_train_function_7381]"
     ]
    }
   ],
   "source": [
    "# MODEL 2 \n",
    "# 2 LAYERS\n",
    "\n",
    "model_cnn = models.Sequential(\n",
    "    [\n",
    "        layers.Conv2D(32, (3,3), activation = 'relu', input_shape = (100,100,3)), #32 output channels, (3,3) convolution window\n",
    "        layers.MaxPooling2D((2,2)),\n",
    "        layers.Conv2D(64,(3,3), activation = 'relu'), #64 output channels, (3,3) convolution window\n",
    "        layers.MaxPooling2D((2,2)),\n",
    "        layers.Conv2D(64,(3,3), activation = 'relu'), #64 output channels, (3,3) convolution window\n",
    "        \n",
    "        layers.Flatten(),\n",
    "        layers.Dense(64, activation = 'relu'),\n",
    "        layers.Dense(5),\n",
    "\n",
    "        \n",
    "    ])\n",
    "\n",
    "\n",
    "\n",
    "model_cnn.compile(optimizer='adam',\n",
    "              loss=tf.keras.losses.SparseCategoricalCrossentropy(from_logits=True),\n",
    "              metrics=['accuracy'])\n",
    "\n",
    "history = model_cnn.fit(x_train_tensor, y_train_tensor, epochs=10, \n",
    "                    validation_data=(x_test_tensor, y_test_tensor))\n",
    "\n",
    "#Validation Curves\n",
    "\n",
    "plt.plot(history.history['accuracy'])\n",
    "plt.plot(history.history['val_accuracy'])\n",
    "plt.title('model accuracy')\n",
    "plt.ylabel('accuracy')\n",
    "plt.xlabel('Epoch')\n",
    "plt.legend(['training', 'validation'], loc='upper left')\n",
    "plt.show()\n",
    "\n",
    "print('Maximum Validation Accuracy = ', max(history.history['val_accuracy']))"
   ]
  },
  {
   "cell_type": "code",
   "execution_count": 7,
   "metadata": {},
   "outputs": [
    {
     "name": "stdout",
     "output_type": "stream",
     "text": [
      "Epoch 1/10\n",
      "125/125 [==============================] - 44s 352ms/step - loss: 1.5284 - accuracy: 0.3006 - val_loss: 1.3627 - val_accuracy: 0.4484\n",
      "Epoch 2/10\n",
      "125/125 [==============================] - 43s 341ms/step - loss: 1.2561 - accuracy: 0.4812 - val_loss: 1.1800 - val_accuracy: 0.5395\n",
      "Epoch 3/10\n",
      "125/125 [==============================] - 40s 317ms/step - loss: 1.1080 - accuracy: 0.5603 - val_loss: 1.2322 - val_accuracy: 0.4805\n",
      "Epoch 4/10\n",
      "125/125 [==============================] - 39s 315ms/step - loss: 1.0272 - accuracy: 0.5813 - val_loss: 1.1174 - val_accuracy: 0.5445\n",
      "Epoch 5/10\n",
      "125/125 [==============================] - 39s 315ms/step - loss: 0.9126 - accuracy: 0.6281 - val_loss: 1.1493 - val_accuracy: 0.5546\n",
      "Epoch 6/10\n",
      "125/125 [==============================] - 40s 318ms/step - loss: 0.7468 - accuracy: 0.7070 - val_loss: 1.1324 - val_accuracy: 0.5796\n",
      "Epoch 7/10\n",
      "125/125 [==============================] - 41s 327ms/step - loss: 0.6199 - accuracy: 0.7595 - val_loss: 1.3418 - val_accuracy: 0.5325\n",
      "Epoch 8/10\n",
      "125/125 [==============================] - 39s 314ms/step - loss: 0.4534 - accuracy: 0.8233 - val_loss: 1.4300 - val_accuracy: 0.5596\n",
      "Epoch 9/10\n",
      "125/125 [==============================] - 40s 317ms/step - loss: 0.3093 - accuracy: 0.8856 - val_loss: 1.9110 - val_accuracy: 0.5375\n",
      "Epoch 10/10\n",
      "125/125 [==============================] - 39s 314ms/step - loss: 0.2290 - accuracy: 0.9169 - val_loss: 2.0576 - val_accuracy: 0.5215\n"
     ]
    }
   ],
   "source": [
    "#MODEL 3\n",
    "# 2 LAYERS, Increase output channels\n",
    "model_cnn = models.Sequential(\n",
    "    [\n",
    "        layers.Conv2D(64, (3,3), activation = 'relu', input_shape = (100,100,3)), #64 output channels, (3,3) convolution window\n",
    "        layers.MaxPooling2D((2,2)),\n",
    "        layers.Conv2D(128,(3,3), activation = 'relu'), #128 output channels, (3,3) convolution window\n",
    "        layers.MaxPooling2D((2,2)),\n",
    "        layers.Conv2D(128,(3,3), activation = 'relu'), #128 output channels, (3,3) convolution window\n",
    "        \n",
    "        layers.Flatten(),\n",
    "        layers.Dense(64, activation = 'relu'),\n",
    "        layers.Dense(5),\n",
    "\n",
    "        \n",
    "    ])\n",
    "\n",
    "\n",
    "model_cnn.compile(optimizer='adam',\n",
    "              loss=tf.keras.losses.SparseCategoricalCrossentropy(from_logits=True),\n",
    "              metrics=['accuracy'])\n",
    "\n",
    "history = model_cnn.fit(x_train_tensor, y_train_tensor, epochs=10, \n",
    "                    validation_data=(x_test_tensor, y_test_tensor))\n",
    "\n",
    "#Validation Curves\n",
    "\n",
    "plt.plot(history.history['accuracy'])\n",
    "plt.plot(history.history['val_accuracy'])\n",
    "plt.title('model accuracy')\n",
    "plt.ylabel('accuracy')\n",
    "plt.xlabel('Epoch')\n",
    "plt.legend(['training', 'validation'], loc='upper left')\n",
    "plt.show()\n",
    "\n",
    "print('Maximum Validation Accuracy = ', max(history.history['val_accuracy']))"
   ]
  }
 ],
 "metadata": {
  "interpreter": {
   "hash": "aec2e83f823de672f513f7b31b7d58069c9522f1ad26e9202e9eea61dd190220"
  },
  "kernelspec": {
   "display_name": "Python 3.10.4 64-bit",
   "language": "python",
   "name": "python3"
  },
  "language_info": {
   "codemirror_mode": {
    "name": "ipython",
    "version": 3
   },
   "file_extension": ".py",
   "mimetype": "text/x-python",
   "name": "python",
   "nbconvert_exporter": "python",
   "pygments_lexer": "ipython3",
   "version": "3.10.4"
  },
  "orig_nbformat": 4
 },
 "nbformat": 4,
 "nbformat_minor": 2
}
